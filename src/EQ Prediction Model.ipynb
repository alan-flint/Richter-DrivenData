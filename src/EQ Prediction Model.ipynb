{
 "cells": [
  {
   "cell_type": "markdown",
   "metadata": {
    "Collapsed": "false"
   },
   "source": [
    "# Earthquake Damage Modelling : Model Preparation"
   ]
  },
  {
   "cell_type": "markdown",
   "metadata": {
    "Collapsed": "false"
   },
   "source": [
    "FROM https://github.com/arpan65/Earthquake-Damage-Modelling"
   ]
  },
  {
   "cell_type": "code",
   "execution_count": 5,
   "metadata": {
    "Collapsed": "false"
   },
   "outputs": [],
   "source": [
    "#Importing necessary Libraries\n",
    "%matplotlib inline\n",
    "import pandas as pd\n",
    "import numpy as np\n",
    "import nltk\n",
    "import string\n",
    "import matplotlib.pyplot as plt\n",
    "import seaborn as sns\n",
    "from sklearn.preprocessing import LabelEncoder\n",
    "from sklearn.feature_extraction.text import CountVectorizer\n",
    "from sklearn.metrics import confusion_matrix\n",
    "from sklearn import metrics\n",
    "from sklearn.metrics import roc_curve, auc,accuracy_score,f1_score,precision_score,recall_score\n",
    "from sklearn.linear_model import ElasticNet, Lasso,  BayesianRidge, LassoLarsIC,Ridge\n",
    "from sklearn.ensemble import RandomForestRegressor,  GradientBoostingRegressor\n",
    "from sklearn.kernel_ridge import KernelRidge\n",
    "from sklearn.pipeline import make_pipeline\n",
    "from sklearn.preprocessing import RobustScaler\n",
    "from sklearn.svm import LinearSVC\n",
    "from sklearn.base import BaseEstimator, TransformerMixin, RegressorMixin, clone\n",
    "from sklearn.model_selection import KFold, cross_val_score, train_test_split\n",
    "from sklearn.metrics import precision_score,recall_score,auc\n",
    "import xgboost as xgb\n",
    "import lightgbm as lgb\n",
    "from mlxtend.regressor import StackingRegressor,StackingCVRegressor"
   ]
  },
  {
   "cell_type": "code",
   "execution_count": 6,
   "metadata": {
    "Collapsed": "false"
   },
   "outputs": [],
   "source": [
    "import warnings\n",
    "warnings.filterwarnings(\"ignore\")"
   ]
  },
  {
   "cell_type": "code",
   "execution_count": 7,
   "metadata": {
    "Collapsed": "false"
   },
   "outputs": [],
   "source": [
    "train_data=pd.read_csv('../input/train_values.csv')\n",
    "test_data=pd.read_csv('../input/test_values.csv')"
   ]
  },
  {
   "cell_type": "code",
   "execution_count": 8,
   "metadata": {
    "Collapsed": "false"
   },
   "outputs": [],
   "source": [
    "train_y=pd.read_csv('../input/train_labels.csv')\n",
    "# test_y=pd.read_csv('test_labels.csv')"
   ]
  },
  {
   "cell_type": "code",
   "execution_count": 9,
   "metadata": {
    "Collapsed": "false"
   },
   "outputs": [
    {
     "name": "stdout",
     "output_type": "stream",
     "text": [
      "Training data shape: (260601, 39)\n",
      "Test data shape: (86868, 39)\n"
     ]
    }
   ],
   "source": [
    "print('Training data shape:',train_data.shape)\n",
    "print('Test data shape:',test_data.shape)"
   ]
  },
  {
   "cell_type": "markdown",
   "metadata": {
    "Collapsed": "false"
   },
   "source": [
    "## Data Preparation for Models:"
   ]
  },
  {
   "cell_type": "code",
   "execution_count": 353,
   "metadata": {
    "Collapsed": "false"
   },
   "outputs": [],
   "source": [
    "train_data.damage_grade=train_data.damage_grade.replace({1:'Low',2:'Medium',3:'High'})\n",
    "test_data.damage_grade=test_data.damage_grade.replace({1:'Low',2:'Medium',3:'High'})"
   ]
  },
  {
   "cell_type": "code",
   "execution_count": 354,
   "metadata": {
    "Collapsed": "false"
   },
   "outputs": [],
   "source": [
    "train=train_data"
   ]
  },
  {
   "cell_type": "code",
   "execution_count": 6,
   "metadata": {
    "Collapsed": "false"
   },
   "outputs": [],
   "source": [
    "train_high=train[train.damage_grade=='High']\n",
    "train_medium=train[train.damage_grade=='Medium']\n",
    "train_low=train[train.damage_grade=='Low']"
   ]
  },
  {
   "cell_type": "code",
   "execution_count": 7,
   "metadata": {
    "Collapsed": "false"
   },
   "outputs": [],
   "source": [
    "train_high=train_high.sample(100000)\n",
    "train_medium=train_medium.sample(100000)\n",
    "train_low=train_low.sample(100000)"
   ]
  },
  {
   "cell_type": "code",
   "execution_count": 8,
   "metadata": {
    "Collapsed": "false"
   },
   "outputs": [
    {
     "data": {
      "text/html": [
       "<div>\n",
       "<style scoped>\n",
       "    .dataframe tbody tr th:only-of-type {\n",
       "        vertical-align: middle;\n",
       "    }\n",
       "\n",
       "    .dataframe tbody tr th {\n",
       "        vertical-align: top;\n",
       "    }\n",
       "\n",
       "    .dataframe thead th {\n",
       "        text-align: right;\n",
       "    }\n",
       "</style>\n",
       "<table border=\"1\" class=\"dataframe\">\n",
       "  <thead>\n",
       "    <tr style=\"text-align: right;\">\n",
       "      <th></th>\n",
       "      <th>building_id</th>\n",
       "      <th>geo1</th>\n",
       "      <th>geo2</th>\n",
       "      <th>geo3</th>\n",
       "      <th>count_floors_pre_eq</th>\n",
       "      <th>count_floors_post_eq</th>\n",
       "      <th>age_building</th>\n",
       "      <th>plinth_area_sq_ft</th>\n",
       "      <th>height_ft_pre_eq</th>\n",
       "      <th>height_ft_post_eq</th>\n",
       "      <th>...</th>\n",
       "      <th>has_secondary_use_agriculture</th>\n",
       "      <th>has_secondary_use_hotel</th>\n",
       "      <th>has_secondary_use_rental</th>\n",
       "      <th>has_secondary_use_institution</th>\n",
       "      <th>has_secondary_use_school</th>\n",
       "      <th>has_secondary_use_industry</th>\n",
       "      <th>has_secondary_use_health_post</th>\n",
       "      <th>has_secondary_use_gov_office</th>\n",
       "      <th>has_secondary_use_use_police</th>\n",
       "      <th>has_secondary_use_other</th>\n",
       "    </tr>\n",
       "  </thead>\n",
       "  <tbody>\n",
       "    <tr>\n",
       "      <th>142330</th>\n",
       "      <td>241409000441</td>\n",
       "      <td>24</td>\n",
       "      <td>2408</td>\n",
       "      <td>240810</td>\n",
       "      <td>2</td>\n",
       "      <td>1</td>\n",
       "      <td>44</td>\n",
       "      <td>470</td>\n",
       "      <td>16</td>\n",
       "      <td>12</td>\n",
       "      <td>...</td>\n",
       "      <td>0</td>\n",
       "      <td>0</td>\n",
       "      <td>0</td>\n",
       "      <td>0</td>\n",
       "      <td>0</td>\n",
       "      <td>0</td>\n",
       "      <td>0</td>\n",
       "      <td>0</td>\n",
       "      <td>0</td>\n",
       "      <td>0</td>\n",
       "    </tr>\n",
       "    <tr>\n",
       "      <th>98280</th>\n",
       "      <td>247209000941</td>\n",
       "      <td>24</td>\n",
       "      <td>2410</td>\n",
       "      <td>241001</td>\n",
       "      <td>3</td>\n",
       "      <td>3</td>\n",
       "      <td>82</td>\n",
       "      <td>500</td>\n",
       "      <td>24</td>\n",
       "      <td>24</td>\n",
       "      <td>...</td>\n",
       "      <td>0</td>\n",
       "      <td>0</td>\n",
       "      <td>0</td>\n",
       "      <td>0</td>\n",
       "      <td>0</td>\n",
       "      <td>0</td>\n",
       "      <td>0</td>\n",
       "      <td>0</td>\n",
       "      <td>0</td>\n",
       "      <td>0</td>\n",
       "    </tr>\n",
       "    <tr>\n",
       "      <th>209806</th>\n",
       "      <td>125403000181</td>\n",
       "      <td>12</td>\n",
       "      <td>1207</td>\n",
       "      <td>120702</td>\n",
       "      <td>2</td>\n",
       "      <td>2</td>\n",
       "      <td>26</td>\n",
       "      <td>400</td>\n",
       "      <td>14</td>\n",
       "      <td>14</td>\n",
       "      <td>...</td>\n",
       "      <td>0</td>\n",
       "      <td>0</td>\n",
       "      <td>0</td>\n",
       "      <td>0</td>\n",
       "      <td>0</td>\n",
       "      <td>0</td>\n",
       "      <td>0</td>\n",
       "      <td>0</td>\n",
       "      <td>0</td>\n",
       "      <td>0</td>\n",
       "    </tr>\n",
       "    <tr>\n",
       "      <th>282600</th>\n",
       "      <td>311103002231</td>\n",
       "      <td>31</td>\n",
       "      <td>3104</td>\n",
       "      <td>310415</td>\n",
       "      <td>1</td>\n",
       "      <td>1</td>\n",
       "      <td>12</td>\n",
       "      <td>350</td>\n",
       "      <td>10</td>\n",
       "      <td>10</td>\n",
       "      <td>...</td>\n",
       "      <td>0</td>\n",
       "      <td>0</td>\n",
       "      <td>0</td>\n",
       "      <td>0</td>\n",
       "      <td>0</td>\n",
       "      <td>0</td>\n",
       "      <td>0</td>\n",
       "      <td>0</td>\n",
       "      <td>0</td>\n",
       "      <td>0</td>\n",
       "    </tr>\n",
       "    <tr>\n",
       "      <th>186092</th>\n",
       "      <td>312404002471</td>\n",
       "      <td>31</td>\n",
       "      <td>3110</td>\n",
       "      <td>311008</td>\n",
       "      <td>1</td>\n",
       "      <td>1</td>\n",
       "      <td>5</td>\n",
       "      <td>186</td>\n",
       "      <td>6</td>\n",
       "      <td>6</td>\n",
       "      <td>...</td>\n",
       "      <td>0</td>\n",
       "      <td>0</td>\n",
       "      <td>0</td>\n",
       "      <td>0</td>\n",
       "      <td>0</td>\n",
       "      <td>0</td>\n",
       "      <td>0</td>\n",
       "      <td>0</td>\n",
       "      <td>0</td>\n",
       "      <td>0</td>\n",
       "    </tr>\n",
       "  </tbody>\n",
       "</table>\n",
       "<p>5 rows × 42 columns</p>\n",
       "</div>"
      ],
      "text/plain": [
       "         building_id  geo1  geo2    geo3  count_floors_pre_eq  \\\n",
       "142330  241409000441    24  2408  240810                    2   \n",
       "98280   247209000941    24  2410  241001                    3   \n",
       "209806  125403000181    12  1207  120702                    2   \n",
       "282600  311103002231    31  3104  310415                    1   \n",
       "186092  312404002471    31  3110  311008                    1   \n",
       "\n",
       "        count_floors_post_eq  age_building  plinth_area_sq_ft  \\\n",
       "142330                     1            44                470   \n",
       "98280                      3            82                500   \n",
       "209806                     2            26                400   \n",
       "282600                     1            12                350   \n",
       "186092                     1             5                186   \n",
       "\n",
       "        height_ft_pre_eq  height_ft_post_eq           ...             \\\n",
       "142330                16                 12           ...              \n",
       "98280                 24                 24           ...              \n",
       "209806                14                 14           ...              \n",
       "282600                10                 10           ...              \n",
       "186092                 6                  6           ...              \n",
       "\n",
       "       has_secondary_use_agriculture has_secondary_use_hotel  \\\n",
       "142330                             0                       0   \n",
       "98280                              0                       0   \n",
       "209806                             0                       0   \n",
       "282600                             0                       0   \n",
       "186092                             0                       0   \n",
       "\n",
       "       has_secondary_use_rental has_secondary_use_institution  \\\n",
       "142330                        0                             0   \n",
       "98280                         0                             0   \n",
       "209806                        0                             0   \n",
       "282600                        0                             0   \n",
       "186092                        0                             0   \n",
       "\n",
       "       has_secondary_use_school has_secondary_use_industry  \\\n",
       "142330                        0                          0   \n",
       "98280                         0                          0   \n",
       "209806                        0                          0   \n",
       "282600                        0                          0   \n",
       "186092                        0                          0   \n",
       "\n",
       "       has_secondary_use_health_post  has_secondary_use_gov_office  \\\n",
       "142330                             0                             0   \n",
       "98280                              0                             0   \n",
       "209806                             0                             0   \n",
       "282600                             0                             0   \n",
       "186092                             0                             0   \n",
       "\n",
       "        has_secondary_use_use_police  has_secondary_use_other  \n",
       "142330                             0                        0  \n",
       "98280                              0                        0  \n",
       "209806                             0                        0  \n",
       "282600                             0                        0  \n",
       "186092                             0                        0  \n",
       "\n",
       "[5 rows x 42 columns]"
      ]
     },
     "execution_count": 8,
     "metadata": {},
     "output_type": "execute_result"
    }
   ],
   "source": [
    "train = pd.concat([train_high, train_medium,train_low], ignore_index=True, sort =False)\n",
    "train=train.sample(frac=1)\n",
    "train.head(5)"
   ]
  },
  {
   "cell_type": "code",
   "execution_count": 355,
   "metadata": {
    "Collapsed": "false"
   },
   "outputs": [],
   "source": [
    "train=train.sample(300000)"
   ]
  },
  {
   "cell_type": "markdown",
   "metadata": {
    "Collapsed": "false"
   },
   "source": [
    "#### Train-Test-Validation split:"
   ]
  },
  {
   "cell_type": "code",
   "execution_count": 356,
   "metadata": {
    "Collapsed": "false"
   },
   "outputs": [],
   "source": [
    "train_=train"
   ]
  },
  {
   "cell_type": "code",
   "execution_count": 357,
   "metadata": {
    "Collapsed": "false"
   },
   "outputs": [],
   "source": [
    "y_train=train.damage_grade\n",
    "train=train.drop('damage_grade',axis=1)"
   ]
  },
  {
   "cell_type": "code",
   "execution_count": 358,
   "metadata": {
    "Collapsed": "false"
   },
   "outputs": [],
   "source": [
    "y_test=test_data.damage_grade\n",
    "x_test=test_data.drop('damage_grade',axis=1)"
   ]
  },
  {
   "cell_type": "code",
   "execution_count": 359,
   "metadata": {
    "Collapsed": "false"
   },
   "outputs": [],
   "source": [
    "x_train,x_cv,y_train,y_cv=train_test_split(train,y_train,stratify=y_train,test_size=0.3)"
   ]
  },
  {
   "cell_type": "markdown",
   "metadata": {
    "Collapsed": "false"
   },
   "source": [
    "#### Preprocessing:"
   ]
  },
  {
   "cell_type": "code",
   "execution_count": 12,
   "metadata": {
    "Collapsed": "false"
   },
   "outputs": [
    {
     "name": "stdout",
     "output_type": "stream",
     "text": [
      "Data in Train dataset: 210000\n",
      "Data in Test dataset: 152419\n",
      "Data in CV dataset: 90000\n"
     ]
    }
   ],
   "source": [
    "print('Data in Train dataset:',len(x_train))\n",
    "print('Data in Test dataset:',len(x_test))\n",
    "print('Data in CV dataset:',len(x_cv))"
   ]
  },
  {
   "cell_type": "code",
   "execution_count": 360,
   "metadata": {
    "Collapsed": "false"
   },
   "outputs": [],
   "source": [
    "# utility function to preprocess data\n",
    "from sklearn.preprocessing import StandardScaler\n",
    "from sklearn.preprocessing import Normalizer,LabelEncoder\n",
    "from sklearn.feature_extraction.text import CountVectorizer\n",
    "def preprocess_num_data(train_data,cv_data,test_data):\n",
    "    std=Normalizer()\n",
    "    std.fit(train_data)\n",
    "    transformed_input=std.transform(train_data)\n",
    "    transformed_cv=std.transform(cv_data)\n",
    "    transformed_test=std.transform(test_data)\n",
    "    return transformed_input,transformed_cv,transformed_test\n",
    "def preprocess_cat_data(train_data,cv_data,test_data):\n",
    "    std=LabelEncoder()\n",
    "    for col in train_data.columns:\n",
    "        col_list_train=list(map(str,train_data[col].values))\n",
    "        #print(col_list_train)\n",
    "        col_list_cv=list(map(str,cv_data[col].values))\n",
    "        col_list_test=list(map(str,test_data[col].values))\n",
    "        std.fit(col_list_train)\n",
    "        col_list_train=std.transform(col_list_train)\n",
    "        col_list_test=std.transform(col_list_test)\n",
    "        col_list_cv=std.transform(col_list_cv)\n",
    "        train_data[col]=col_list_train\n",
    "        test_data[col]=col_list_test\n",
    "        cv_data[col]=col_list_cv\n",
    "    return train_data,cv_data,test_data\n",
    "    "
   ]
  },
  {
   "cell_type": "code",
   "execution_count": 361,
   "metadata": {
    "Collapsed": "false"
   },
   "outputs": [],
   "source": [
    "num_data=['geo1', 'geo2', 'geo3',\n",
    "       'count_floors_pre_eq','count_floors_post_eq', 'age_building','plinth_area_sq_ft','count_families',\n",
    "         'height_ft_pre_eq', 'height_ft_post_eq']\n",
    "cat_data=['land_surface_condition', 'foundation_type', 'roof_type',\n",
    "       'ground_floor_type', 'other_floor_type', 'position','legal_ownership_status',\n",
    "       'plan_configuration'] \n",
    "bin_data=['has_superstructure_adobe_mud',\n",
    "       'has_superstructure_mud_mortar_stone', 'has_superstructure_stone_flag',\n",
    "       'has_superstructure_cement_mortar_stone',\n",
    "       'has_superstructure_mud_mortar_brick',\n",
    "       'has_superstructure_cement_mortar_brick', 'has_superstructure_timber',\n",
    "       'has_superstructure_bamboo', 'has_superstructure_rc_non_engineered',\n",
    "       'has_superstructure_rc_engineered', 'has_superstructure_other',\n",
    "        'has_secondary_use',\n",
    "       'has_secondary_use_agriculture', 'has_secondary_use_hotel',\n",
    "       'has_secondary_use_rental', 'has_secondary_use_institution',\n",
    "       'has_secondary_use_school', 'has_secondary_use_industry',\n",
    "       'has_secondary_use_health_post', 'has_secondary_use_gov_office',\n",
    "       'has_secondary_use_use_police', 'has_secondary_use_other']"
   ]
  },
  {
   "cell_type": "code",
   "execution_count": 362,
   "metadata": {
    "Collapsed": "false"
   },
   "outputs": [],
   "source": [
    "# filtering numerical data\n",
    "num_train=x_train[num_data]\n",
    "num_test=x_test[num_data]\n",
    "num_cv=x_cv[num_data]\n",
    "# filtering categorical data\n",
    "cat_train=x_train[cat_data]\n",
    "cat_test=x_test[cat_data]\n",
    "cat_cv=x_cv[cat_data]\n",
    "# filtering binary data\n",
    "bin_train=x_train[bin_data]\n",
    "bin_test=x_test[bin_data]\n",
    "bin_cv=x_cv[bin_data]"
   ]
  },
  {
   "cell_type": "code",
   "execution_count": 363,
   "metadata": {
    "Collapsed": "false"
   },
   "outputs": [],
   "source": [
    "num_train,num_cv,num_test=preprocess_num_data(num_train,num_cv,num_test)\n",
    "cat_train,cat_cv,cat_test=preprocess_cat_data(cat_train,cat_cv,cat_test)\n",
    "bin_train,bin_cv,bin_test=preprocess_cat_data(bin_train,bin_cv,bin_test)"
   ]
  },
  {
   "cell_type": "code",
   "execution_count": 364,
   "metadata": {
    "Collapsed": "false"
   },
   "outputs": [],
   "source": [
    "from scipy.sparse import hstack\n",
    "train_data_final=hstack((num_train,cat_train,bin_train)).tocsr()\n",
    "test_data_final=hstack((num_test,cat_test,bin_test)).tocsr()\n",
    "cv_data_final=hstack((num_cv,cat_cv,bin_cv)).tocsr()"
   ]
  },
  {
   "cell_type": "code",
   "execution_count": 365,
   "metadata": {
    "Collapsed": "false"
   },
   "outputs": [
    {
     "name": "stdout",
     "output_type": "stream",
     "text": [
      "(210000, 40)\n",
      "(152419, 40)\n",
      "(90000, 40)\n"
     ]
    }
   ],
   "source": [
    "# shape of final data matrixes\n",
    "print(train_data_final.shape)\n",
    "print(test_data_final.shape)\n",
    "print(cv_data_final.shape)"
   ]
  },
  {
   "cell_type": "code",
   "execution_count": 366,
   "metadata": {
    "Collapsed": "false"
   },
   "outputs": [],
   "source": [
    "#function to plot confusion matrix\n",
    "import itertools\n",
    "import numpy as np\n",
    "import matplotlib.pyplot as plt\n",
    "from sklearn.metrics import confusion_matrix\n",
    "plt.rcParams[\"font.family\"] = 'DejaVu Sans'\n",
    "\n",
    "def plot_confusion_matrix(cm, classes,\n",
    "                          normalize=False,\n",
    "                          title='Confusion matrix',\n",
    "                          cmap=plt.cm.Blues):\n",
    "    if normalize:\n",
    "        cm = cm.astype('float') / cm.sum(axis=1)[:, np.newaxis]\n",
    "\n",
    "    plt.imshow(cm, interpolation='nearest', cmap=cmap)\n",
    "    plt.title(title)\n",
    "    plt.colorbar()\n",
    "    tick_marks = np.arange(len(classes))\n",
    "    plt.xticks(tick_marks, classes, rotation=90)\n",
    "    plt.yticks(tick_marks, classes)\n",
    "\n",
    "    fmt = '.2f' if normalize else 'd'\n",
    "    thresh = cm.max() / 2.\n",
    "    for i, j in itertools.product(range(cm.shape[0]), range(cm.shape[1])):\n",
    "        plt.text(j, i, format(cm[i, j], fmt),\n",
    "                 horizontalalignment=\"center\",\n",
    "                 color=\"white\" if cm[i, j] > thresh else \"black\")\n",
    "\n",
    "    plt.tight_layout()\n",
    "    plt.ylabel('True label')\n",
    "    plt.xlabel('Predicted label')"
   ]
  },
  {
   "cell_type": "code",
   "execution_count": 159,
   "metadata": {
    "Collapsed": "false"
   },
   "outputs": [],
   "source": [
    "# function to run any model\n",
    "from datetime import datetime\n",
    "def perform_model(model, X_train, y_train, X_test, y_test, class_labels, cm_normalize=True, \\\n",
    "                 print_cm=True, cm_cmap=plt.cm.Greens):\n",
    "    \n",
    "    \n",
    "    # to store results at various phases\n",
    "    results = dict()\n",
    "    \n",
    "    # time at which model starts training \n",
    "    train_start_time = datetime.now()\n",
    "    print('training the model..')\n",
    "    model.fit(X_train, y_train)\n",
    "    print('Done \\n \\n')\n",
    "    train_end_time = datetime.now()\n",
    "    results['training_time'] =  train_end_time - train_start_time\n",
    "    print('training_time(HH:MM:SS.ms) - {}\\n\\n'.format(results['training_time']))\n",
    "    # predict test data\n",
    "    print('Predicting test data')\n",
    "    test_start_time = datetime.now()\n",
    "    y_pred = model.predict(X_test)\n",
    "    test_end_time = datetime.now()\n",
    "    print('Done \\n \\n')\n",
    "    results['testing_time'] = test_end_time - test_start_time\n",
    "    print('testing time(HH:MM:SS:ms) - {}\\n\\n'.format(results['testing_time']))\n",
    "    results['predicted'] = y_pred\n",
    "    \n",
    "    # calculate overall accuracty of the model\n",
    "    print('---------Performance Score--------------')\n",
    "    accuracy = metrics.accuracy_score(y_true=y_test, y_pred=y_pred)\n",
    "    precision=precision_score(y_true=y_test, y_pred=y_pred,average='micro')\n",
    "    recall=recall_score(y_true=y_test, y_pred=y_pred,average='micro')\n",
    "    micro_f1=f1_score(y_true=y_test, y_pred=y_pred,average='micro')\n",
    "    print('\\n Micro F1:{}'.format(micro_f1))\n",
    "    print('\\n Precision:{}'.format(precision))\n",
    "    print('\\n Recall:{}'.format(recall))\n",
    "    print('\\n Accuracy:{}\\n'.format(accuracy))\n",
    "    \n",
    "    # confusion matrix\n",
    "    cm = metrics.confusion_matrix(y_test, y_pred)\n",
    "    results['confusion_matrix'] = cm\n",
    "    if print_cm: \n",
    "        print('--------------------')\n",
    "        print('| Confusion Matrix |')\n",
    "        print('\\n {}'.format(cm))\n",
    "        \n",
    "    # plot confusin matrix\n",
    "    plt.figure(figsize=(8,8))\n",
    "    plt.grid(b=False)\n",
    "    plot_confusion_matrix(cm, classes=class_labels, normalize=True, title='Normalized confusion matrix', cmap = cm_cmap)\n",
    "    plt.show()\n",
    "    \n",
    "    # get classification report\n",
    "    print('-------------------------')\n",
    "    print('| Classifiction Report |')\n",
    "    classification_report = metrics.classification_report(y_test, y_pred)\n",
    "    # store report in results\n",
    "    results['classification_report'] = classification_report\n",
    "    print(classification_report)\n",
    "    \n",
    "    # add the trained  model to the results\n",
    "    results['model'] = model\n",
    "    \n",
    "    return results,model\n",
    "    \n",
    "    "
   ]
  },
  {
   "cell_type": "code",
   "execution_count": 160,
   "metadata": {
    "Collapsed": "false"
   },
   "outputs": [],
   "source": [
    "def predict_test_f1(model,x_test,y_test):\n",
    "    y_pred=model.predict(x_test)\n",
    "    micro_f1=f1_score(y_true=y_test, y_pred=y_pred,average='micro')\n",
    "    print('\\n Micro F1 Score of Test Data:{}'.format(micro_f1))\n",
    "    "
   ]
  },
  {
   "cell_type": "markdown",
   "metadata": {
    "Collapsed": "false"
   },
   "source": [
    "# Model Preparation:"
   ]
  },
  {
   "cell_type": "code",
   "execution_count": 91,
   "metadata": {
    "Collapsed": "false"
   },
   "outputs": [],
   "source": [
    "from sklearn import linear_model\n",
    "from sklearn import metrics\n",
    "from sklearn.model_selection import GridSearchCV\n",
    "import pickle\n",
    "from sklearn.externals import joblib \n",
    "import random"
   ]
  },
  {
   "cell_type": "code",
   "execution_count": 313,
   "metadata": {
    "Collapsed": "false"
   },
   "outputs": [],
   "source": [
    "labels=['Low','Medium','High']"
   ]
  },
  {
   "cell_type": "markdown",
   "metadata": {
    "Collapsed": "false"
   },
   "source": [
    "<h4>Base line model with random prediction:</h4>"
   ]
  },
  {
   "cell_type": "code",
   "execution_count": 399,
   "metadata": {
    "Collapsed": "false"
   },
   "outputs": [
    {
     "name": "stdout",
     "output_type": "stream",
     "text": [
      "F1 Score of random model on CV data is: 0.33011111111111113\n"
     ]
    }
   ],
   "source": [
    "y_pred_random=[]\n",
    "for i in range(cv_data_final.shape[0]):\n",
    "    y_pred_random.append(random.randint(1,3))\n",
    "#y_pred_random=y_pred_random.map({1:'Low',2:'Medium',3:'High'})\n",
    "y_cv_truth=y_cv.map({'Low':1,'Medium':2,'High':3})\n",
    "score=f1_score(y_pred_random,y_cv_truth,average='micro')\n",
    "print('F1 Score of random model on CV data is:',score)"
   ]
  },
  {
   "cell_type": "markdown",
   "metadata": {
    "Collapsed": "false"
   },
   "source": [
    "We will try to beat this baseline(random) score using machine learning models"
   ]
  },
  {
   "cell_type": "markdown",
   "metadata": {
    "Collapsed": "false"
   },
   "source": [
    "### Logistic Regression:"
   ]
  },
  {
   "cell_type": "code",
   "execution_count": 161,
   "metadata": {
    "Collapsed": "false"
   },
   "outputs": [
    {
     "name": "stdout",
     "output_type": "stream",
     "text": [
      "training the model..\n",
      "Fitting 3 folds for each of 10 candidates, totalling 30 fits\n"
     ]
    },
    {
     "name": "stderr",
     "output_type": "stream",
     "text": [
      "[Parallel(n_jobs=-1)]: Using backend LokyBackend with 8 concurrent workers.\n",
      "[Parallel(n_jobs=-1)]: Done  30 out of  30 | elapsed: 12.7min finished\n"
     ]
    },
    {
     "name": "stdout",
     "output_type": "stream",
     "text": [
      "Done \n",
      " \n",
      "\n",
      "training_time(HH:MM:SS.ms) - 0:14:09.918197\n",
      "\n",
      "\n",
      "Predicting test data\n",
      "Done \n",
      " \n",
      "\n",
      "testing time(HH:MM:SS:ms) - 0:00:00.014962\n",
      "\n",
      "\n",
      "---------Performance Score--------------\n",
      "\n",
      " Micro F1:0.6909111111111111\n",
      "\n",
      " Precision:0.6909111111111111\n",
      "\n",
      " Recall:0.6909111111111111\n",
      "\n",
      " Accuracy:0.6909111111111111\n",
      "\n",
      "--------------------\n",
      "| Confusion Matrix |\n",
      "\n",
      " [[45402  2790  6144]\n",
      " [ 4286 11690  3626]\n",
      " [ 7430  3542  5090]]\n"
     ]
    },
    {
     "data": {
      "image/png": "[encoded data removed]",
      "text/plain": [
       "<Figure size 576x576 with 2 Axes>"
      ]
     },
     "metadata": {},
     "output_type": "display_data"
    },
    {
     "name": "stdout",
     "output_type": "stream",
     "text": [
      "-------------------------\n",
      "| Classifiction Report |\n",
      "              precision    recall  f1-score   support\n",
      "\n",
      "        High       0.79      0.84      0.81     54336\n",
      "         Low       0.65      0.60      0.62     19602\n",
      "      Medium       0.34      0.32      0.33     16062\n",
      "\n",
      "   micro avg       0.69      0.69      0.69     90000\n",
      "   macro avg       0.60      0.58      0.59     90000\n",
      "weighted avg       0.68      0.69      0.69     90000\n",
      "\n"
     ]
    }
   ],
   "source": [
    "\n",
    "# start Grid search\n",
    "parameters = {'C':[0.01, 0.1, 1,5, 10], 'penalty':['l2','l1']}\n",
    "log_reg = linear_model.LogisticRegression(class_weight='balanced')\n",
    "log_reg_grid = GridSearchCV(log_reg, param_grid=parameters, cv=3, verbose=1, n_jobs=-1)\n",
    "log_reg_grid_results,lr_model =  perform_model(log_reg_grid, train_data_final, y_train, cv_data_final, y_cv, class_labels=labels)\n"
   ]
  },
  {
   "cell_type": "code",
   "execution_count": 314,
   "metadata": {
    "Collapsed": "false"
   },
   "outputs": [
    {
     "name": "stdout",
     "output_type": "stream",
     "text": [
      "\n",
      " Micro F1 Score of Test Data:0.6910949422316115\n"
     ]
    }
   ],
   "source": [
    "predict_test_f1(lr_model,test_data_final,y_test)"
   ]
  },
  {
   "cell_type": "code",
   "execution_count": 164,
   "metadata": {
    "Collapsed": "false"
   },
   "outputs": [
    {
     "data": {
      "text/plain": [
       "['log_reg_model.pkl']"
      ]
     },
     "execution_count": 164,
     "metadata": {},
     "output_type": "execute_result"
    }
   ],
   "source": [
    "joblib.dump(lr_model,'log_reg_model.pkl')\n"
   ]
  },
  {
   "cell_type": "markdown",
   "metadata": {
    "Collapsed": "false"
   },
   "source": [
    "### Linear SVM with Nystroem approximation:"
   ]
  },
  {
   "cell_type": "code",
   "execution_count": 39,
   "metadata": {
    "Collapsed": "false"
   },
   "outputs": [
    {
     "name": "stdout",
     "output_type": "stream",
     "text": [
      "training the model..\n",
      "Fitting 3 folds for each of 5 candidates, totalling 15 fits\n"
     ]
    },
    {
     "name": "stderr",
     "output_type": "stream",
     "text": [
      "[Parallel(n_jobs=-1)]: Using backend LokyBackend with 8 concurrent workers.\n",
      "[Parallel(n_jobs=-1)]: Done  15 out of  15 | elapsed:  4.8min finished\n"
     ]
    },
    {
     "name": "stdout",
     "output_type": "stream",
     "text": [
      "Done \n",
      " \n",
      "\n",
      "training_time(HH:MM:SS.ms) - 0:05:08.795514\n",
      "\n",
      "\n",
      "Predicting test data\n",
      "Done \n",
      " \n",
      "\n",
      "testing time(HH:MM:SS:ms) - 0:00:00.031712\n",
      "\n",
      "\n",
      "---------Performance Score--------------\n",
      "\n",
      " Micro F1:0.6818\n",
      "\n",
      " Precision:0.6818\n",
      "\n",
      " Recall:0.6818\n",
      "\n",
      " Accuracy:0.6818\n",
      "\n",
      "--------------------\n",
      "| Confusion Matrix |\n",
      "\n",
      " [[32960  2578   712]\n",
      " [ 5205  7569   284]\n",
      " [ 8004  2309   379]]\n"
     ]
    },
    {
     "data": {
      "image/png": "[encoded data removed]",
      "text/plain": [
       "<Figure size 576x576 with 2 Axes>"
      ]
     },
     "metadata": {},
     "output_type": "display_data"
    },
    {
     "name": "stdout",
     "output_type": "stream",
     "text": [
      "-------------------------\n",
      "| Classifiction Report |\n",
      "              precision    recall  f1-score   support\n",
      "\n",
      "        High       0.71      0.91      0.80     36250\n",
      "         Low       0.61      0.58      0.59     13058\n",
      "      Medium       0.28      0.04      0.06     10692\n",
      "\n",
      "   micro avg       0.68      0.68      0.68     60000\n",
      "   macro avg       0.53      0.51      0.49     60000\n",
      "weighted avg       0.61      0.68      0.62     60000\n",
      "\n"
     ]
    }
   ],
   "source": [
    "from sklearn.kernel_approximation import Nystroem\n",
    "params = {'C':[0.125, 0.5, 1, 2, 8]}\n",
    "feature_map_nystroem = Nystroem(gamma=.2,random_state=1)\n",
    "data_transformed = feature_map_nystroem.fit_transform(train_data_final)\n",
    "cv_transformed=feature_map_nystroem.transform(cv_data_final)\n",
    "linear_svc=LinearSVC(tol=0.00005,class_weight='balanced')\n",
    "grid=GridSearchCV(linear_svc,param_grid=params,n_jobs=-1,verbose=1)\n",
    "linear_svc_res,linear_svc_model=perform_model(grid,data_transformed, y_train, cv_transformed, y_cv, class_labels=labels)\n"
   ]
  },
  {
   "cell_type": "code",
   "execution_count": 75,
   "metadata": {
    "Collapsed": "false"
   },
   "outputs": [
    {
     "name": "stdout",
     "output_type": "stream",
     "text": [
      "\n",
      " Micro F1 Score of Test Data:0.681935979110216\n"
     ]
    }
   ],
   "source": [
    "test_transformed=feature_map_nystroem.transform(test_data_final)\n",
    "#y_test=y_test.map({1:'Low',2:'Medium',3:'High'})\n",
    "predict_test_f1(linear_svc_model,test_transformed,y_test)"
   ]
  },
  {
   "cell_type": "markdown",
   "metadata": {
    "Collapsed": "false"
   },
   "source": [
    "### Random Forest Classifier:"
   ]
  },
  {
   "cell_type": "code",
   "execution_count": 105,
   "metadata": {
    "Collapsed": "false"
   },
   "outputs": [
    {
     "name": "stdout",
     "output_type": "stream",
     "text": [
      "training the model..\n",
      "Fitting 3 folds for each of 16 candidates, totalling 48 fits\n"
     ]
    },
    {
     "name": "stderr",
     "output_type": "stream",
     "text": [
      "[Parallel(n_jobs=-1)]: Using backend LokyBackend with 8 concurrent workers.\n",
      "[Parallel(n_jobs=-1)]: Done  48 out of  48 | elapsed:  5.2min finished\n"
     ]
    },
    {
     "name": "stdout",
     "output_type": "stream",
     "text": [
      "Done \n",
      " \n",
      "\n",
      "training_time(HH:MM:SS.ms) - 0:05:44.665616\n",
      "\n",
      "\n",
      "Predicting test data\n",
      "Done \n",
      " \n",
      "\n",
      "testing time(HH:MM:SS:ms) - 0:00:01.058197\n",
      "\n",
      "\n",
      "---------Performance Score--------------\n",
      "\n",
      " Micro F1:0.6582888888888889\n",
      "\n",
      " Precision:0.6582888888888889\n",
      "\n",
      " Recall:0.6582888888888889\n",
      "\n",
      " Accuracy:0.6582888888888889\n",
      "\n",
      "--------------------\n",
      "| Confusion Matrix |\n",
      "\n",
      " [[34620  2015 17675]\n",
      " [  170 12200  7170]\n",
      " [  425  3299 12426]]\n"
     ]
    },
    {
     "data": {
      "image/png": "[encoded data removed]",
      "text/plain": [
       "<Figure size 576x576 with 2 Axes>"
      ]
     },
     "metadata": {},
     "output_type": "display_data"
    },
    {
     "name": "stdout",
     "output_type": "stream",
     "text": [
      "-------------------------\n",
      "| Classifiction Report |\n",
      "              precision    recall  f1-score   support\n",
      "\n",
      "        High       0.98      0.64      0.77     54310\n",
      "         Low       0.70      0.62      0.66     19540\n",
      "      Medium       0.33      0.77      0.47     16150\n",
      "\n",
      "   micro avg       0.66      0.66      0.66     90000\n",
      "   macro avg       0.67      0.68      0.63     90000\n",
      "weighted avg       0.80      0.66      0.69     90000\n",
      "\n"
     ]
    }
   ],
   "source": [
    "from sklearn.ensemble import RandomForestClassifier\n",
    "params = {'max_depth':[2,3,5,7],'n_estimators':[20,50,100,200]}\n",
    "rf=RandomForestClassifier(class_weight='balanced')\n",
    "grid=GridSearchCV(rf,param_grid=params,n_jobs=-1,verbose=1)\n",
    "rf_res,rf_model=perform_model(grid,train_data_final, y_train,cv_data_final, y_cv, class_labels=labels)"
   ]
  },
  {
   "cell_type": "code",
   "execution_count": 140,
   "metadata": {
    "Collapsed": "false"
   },
   "outputs": [
    {
     "name": "stdout",
     "output_type": "stream",
     "text": [
      "\n",
      " Micro F1 Score of Test Data:0.6559418445206963\n"
     ]
    }
   ],
   "source": [
    "predict_test_f1(rf_model,test_data_final,y_test)"
   ]
  },
  {
   "cell_type": "code",
   "execution_count": 141,
   "metadata": {
    "Collapsed": "false"
   },
   "outputs": [
    {
     "data": {
      "text/plain": [
       "['random_forest_model_65.pkl']"
      ]
     },
     "execution_count": 141,
     "metadata": {},
     "output_type": "execute_result"
    }
   ],
   "source": [
    "joblib.dump(rf_model,'random_forest_model_65.pkl')"
   ]
  },
  {
   "cell_type": "markdown",
   "metadata": {
    "Collapsed": "false"
   },
   "source": [
    "### Multi Class LightGBM with custom metric :"
   ]
  },
  {
   "cell_type": "code",
   "execution_count": 197,
   "metadata": {
    "Collapsed": "false"
   },
   "outputs": [],
   "source": [
    "x_train_=x_train.drop('building_id',axis=1)\n",
    "x_test_=x_test.drop('building_id',axis=1)\n",
    "x_cv_=x_cv.drop('building_id',axis=1)\n",
    "y_train_=y_train.map({'Low':0,'Medium':1,'High':2})\n",
    "y_test_=y_test.map({'Low':0,'Medium':1,'High':2})\n",
    "y_cv_=y_cv.map({'Low':0,'Medium':1,'High':2})"
   ]
  },
  {
   "cell_type": "markdown",
   "metadata": {
    "Collapsed": "false"
   },
   "source": [
    "<h4>Utility functions for Light GBM</h4>"
   ]
  },
  {
   "cell_type": "code",
   "execution_count": 109,
   "metadata": {
    "Collapsed": "false"
   },
   "outputs": [],
   "source": [
    "import lightgbm as lgbm\n",
    "from sklearn.preprocessing import LabelBinarizer\n",
    "#https://stackoverflow.com/questions/50931168/f1-score-metric-in-lightgbm\n",
    "def predict_lgbm(lgb_model,x_test,y_test):\n",
    "    lgb_prediction = lgb_model.predict(x_test)\n",
    "    lgb_prediction = lgb_prediction.argmax(axis = 1)\n",
    "    plt.figure(figsize=(8,8))\n",
    "    plt.grid(b=False)\n",
    "    cm = metrics.confusion_matrix(y_test_, lgb_prediction)\n",
    "    plot_confusion_matrix(cm, classes=labels, normalize=True, title='Normalized confusion matrix')\n",
    "    lgb_F1 = f1_score(lgb_prediction, y_test, average = 'micro')\n",
    "    print(\"The Light GBM F1 is\", lgb_F1)\n",
    "    \n",
    "def preprocess_cat_data_lgbm(train_data,cols):\n",
    "    #print(cols)\n",
    "    for col in train_data.columns:\n",
    "        if(col in cols):\n",
    "            std=LabelEncoder() \n",
    "            temp=list(train_data[col].values)\n",
    "            res=std.fit_transform(temp)\n",
    "            train_data[col]=res\n",
    "    return train_data\n",
    "\n",
    "def lgb_f1_score(y_pred,data):\n",
    "    y_true = data.get_label().astype('int')\n",
    "    #F1 score not improving in multiclass lgbm custom metric:https://github.com/Microsoft/LightGBM/issues/1483\n",
    "    y_pred =y_pred.reshape((3,-1)).argmax(axis=0) \n",
    "    y_pred=np.round(y_pred)\n",
    "    return 'f1', f1_score(y_true, y_pred,average='micro'), True\n",
    "\n",
    "def predict_lgbm(lgb_model,x_test,y_test):\n",
    "    lgb_prediction = lgb_model.predict(x_test)\n",
    "    lgb_prediction = lgb_prediction.argmax(axis = 1)\n",
    "    lgb_F1 = f1_score(lgb_prediction, y_test, average = 'micro')\n",
    "    print(\"The Light GBM F1 is\", lgb_F1)"
   ]
  },
  {
   "cell_type": "code",
   "execution_count": 378,
   "metadata": {
    "Collapsed": "false"
   },
   "outputs": [],
   "source": [
    "x_train_=preprocess_cat_data_lgbm(x_train,cols=cat_data)\n",
    "x_cv_=preprocess_cat_data_lgbm(x_cv,cols=cat_data)\n",
    "x_test_=preprocess_cat_data_lgbm(x_test,cols=cat_data)"
   ]
  },
  {
   "cell_type": "markdown",
   "metadata": {
    "Collapsed": "false"
   },
   "source": [
    "<h4>Parameter Tuning: Learning rate</h4>"
   ]
  },
  {
   "cell_type": "markdown",
   "metadata": {
    "Collapsed": "false"
   },
   "source": [
    "<h4>Learning rate=0.005</h4>"
   ]
  },
  {
   "cell_type": "code",
   "execution_count": 96,
   "metadata": {
    "Collapsed": "false"
   },
   "outputs": [
    {
     "name": "stdout",
     "output_type": "stream",
     "text": [
      "Training until validation scores don't improve for 300 rounds.\n",
      "[500]\ttrain's multi_logloss: 0.593373\ttrain's f1: 0.727897\tval's multi_logloss: 0.592856\tval's f1: 0.728293\n",
      "[1000]\ttrain's multi_logloss: 0.561057\ttrain's f1: 0.736943\tval's multi_logloss: 0.561442\tval's f1: 0.737293\n",
      "[1500]\ttrain's multi_logloss: 0.549571\ttrain's f1: 0.745046\tval's multi_logloss: 0.550784\tval's f1: 0.74504\n",
      "[2000]\ttrain's multi_logloss: 0.541013\ttrain's f1: 0.751097\tval's multi_logloss: 0.543432\tval's f1: 0.74996\n",
      "[2500]\ttrain's multi_logloss: 0.534052\ttrain's f1: 0.755594\tval's multi_logloss: 0.537693\tval's f1: 0.754653\n",
      "[3000]\ttrain's multi_logloss: 0.528326\ttrain's f1: 0.759697\tval's multi_logloss: 0.533253\tval's f1: 0.75848\n",
      "[3500]\ttrain's multi_logloss: 0.523082\ttrain's f1: 0.763777\tval's multi_logloss: 0.529267\tval's f1: 0.7616\n",
      "[4000]\ttrain's multi_logloss: 0.518158\ttrain's f1: 0.767109\tval's multi_logloss: 0.525612\tval's f1: 0.763773\n",
      "[4500]\ttrain's multi_logloss: 0.51355\ttrain's f1: 0.770297\tval's multi_logloss: 0.522245\tval's f1: 0.766187\n",
      "[5000]\ttrain's multi_logloss: 0.509725\ttrain's f1: 0.77264\tval's multi_logloss: 0.519665\tval's f1: 0.767613\n",
      "[5500]\ttrain's multi_logloss: 0.505956\ttrain's f1: 0.77448\tval's multi_logloss: 0.517167\tval's f1: 0.76896\n",
      "[6000]\ttrain's multi_logloss: 0.502615\ttrain's f1: 0.776697\tval's multi_logloss: 0.515137\tval's f1: 0.770107\n",
      "[6500]\ttrain's multi_logloss: 0.499361\ttrain's f1: 0.778514\tval's multi_logloss: 0.513098\tval's f1: 0.77076\n",
      "[7000]\ttrain's multi_logloss: 0.496316\ttrain's f1: 0.780229\tval's multi_logloss: 0.51124\tval's f1: 0.771987\n",
      "[7500]\ttrain's multi_logloss: 0.493213\ttrain's f1: 0.781869\tval's multi_logloss: 0.509291\tval's f1: 0.773027\n",
      "[8000]\ttrain's multi_logloss: 0.490418\ttrain's f1: 0.783514\tval's multi_logloss: 0.507635\tval's f1: 0.77384\n",
      "[8500]\ttrain's multi_logloss: 0.487652\ttrain's f1: 0.784863\tval's multi_logloss: 0.505969\tval's f1: 0.774813\n",
      "[9000]\ttrain's multi_logloss: 0.484957\ttrain's f1: 0.786486\tval's multi_logloss: 0.504349\tval's f1: 0.77576\n",
      "[9500]\ttrain's multi_logloss: 0.48242\ttrain's f1: 0.787697\tval's multi_logloss: 0.502893\tval's f1: 0.776147\n",
      "[10000]\ttrain's multi_logloss: 0.480102\ttrain's f1: 0.78904\tval's multi_logloss: 0.501684\tval's f1: 0.776573\n",
      "[10500]\ttrain's multi_logloss: 0.477989\ttrain's f1: 0.790314\tval's multi_logloss: 0.500711\tval's f1: 0.777013\n",
      "[11000]\ttrain's multi_logloss: 0.475894\ttrain's f1: 0.791623\tval's multi_logloss: 0.499732\tval's f1: 0.778013\n",
      "[11500]\ttrain's multi_logloss: 0.473984\ttrain's f1: 0.792577\tval's multi_logloss: 0.498897\tval's f1: 0.778293\n",
      "[12000]\ttrain's multi_logloss: 0.471939\ttrain's f1: 0.793297\tval's multi_logloss: 0.49788\tval's f1: 0.778547\n",
      "Early stopping, best iteration is:\n",
      "[11975]\ttrain's multi_logloss: 0.47205\ttrain's f1: 0.793217\tval's multi_logloss: 0.497935\tval's f1: 0.778667\n"
     ]
    }
   ],
   "source": [
    "train_data_lgbm = lgbm.Dataset(x_train_, label=y_train_,categorical_feature=cat_data)\n",
    "test_data_lgbm = lgbm.Dataset(x_test_, label=y_test_)\n",
    "cv_data_lgbm=lgbm.Dataset(x_cv_, label=y_cv_)\n",
    "\n",
    "params = {'task': 'train',\n",
    "    'boosting_type': 'gbdt',\n",
    "    'objective': 'multiclass',\n",
    "    'num_class':3,\n",
    "    'learning_rate': 0.005,\n",
    "    'max_depth': 5,\n",
    "    'num_leaves': 20,\n",
    "    'is_unbalanced':True,\n",
    "    'feature_fraction': 0.8,\n",
    "    'bagging_fraction': 0.5}\n",
    "\n",
    "clf=lgbm.train(params,\n",
    "                       train_data_lgbm,\n",
    "                       valid_sets=[cv_data_lgbm,train_data_lgbm],\n",
    "                       valid_names=['val','train'],\n",
    "                       num_boost_round=15000,\n",
    "                       feval=lgb_f1_score,\n",
    "                       verbose_eval=500,\n",
    "                       early_stopping_rounds=300)"
   ]
  },
  {
   "cell_type": "markdown",
   "metadata": {
    "Collapsed": "false"
   },
   "source": [
    "<h4>Learning rate=0.05</h4>"
   ]
  },
  {
   "cell_type": "code",
   "execution_count": 111,
   "metadata": {
    "Collapsed": "false"
   },
   "outputs": [
    {
     "name": "stdout",
     "output_type": "stream",
     "text": [
      "Training until validation scores don't improve for 300 rounds.\n",
      "[100]\ttrain's multi_logloss: 0.562457\ttrain's f1: 0.735148\tval's multi_logloss: 0.563661\tval's f1: 0.735356\n",
      "[200]\ttrain's multi_logloss: 0.541719\ttrain's f1: 0.750676\tval's multi_logloss: 0.544627\tval's f1: 0.749156\n",
      "[300]\ttrain's multi_logloss: 0.529074\ttrain's f1: 0.758986\tval's multi_logloss: 0.533966\tval's f1: 0.755767\n",
      "[400]\ttrain's multi_logloss: 0.519332\ttrain's f1: 0.765357\tval's multi_logloss: 0.526204\tval's f1: 0.761344\n",
      "[500]\ttrain's multi_logloss: 0.510985\ttrain's f1: 0.770881\tval's multi_logloss: 0.519891\tval's f1: 0.765156\n",
      "[600]\ttrain's multi_logloss: 0.503724\ttrain's f1: 0.775281\tval's multi_logloss: 0.514693\tval's f1: 0.7677\n",
      "[700]\ttrain's multi_logloss: 0.497769\ttrain's f1: 0.778786\tval's multi_logloss: 0.51065\tval's f1: 0.77\n",
      "[800]\ttrain's multi_logloss: 0.492507\ttrain's f1: 0.781652\tval's multi_logloss: 0.5073\tval's f1: 0.771944\n",
      "[900]\ttrain's multi_logloss: 0.487786\ttrain's f1: 0.784181\tval's multi_logloss: 0.50448\tval's f1: 0.773244\n",
      "[1000]\ttrain's multi_logloss: 0.483641\ttrain's f1: 0.786605\tval's multi_logloss: 0.502243\tval's f1: 0.774067\n",
      "[1100]\ttrain's multi_logloss: 0.479628\ttrain's f1: 0.788829\tval's multi_logloss: 0.500158\tval's f1: 0.7751\n",
      "[1200]\ttrain's multi_logloss: 0.475977\ttrain's f1: 0.790829\tval's multi_logloss: 0.498266\tval's f1: 0.775911\n",
      "[1300]\ttrain's multi_logloss: 0.47225\ttrain's f1: 0.792638\tval's multi_logloss: 0.496497\tval's f1: 0.777289\n",
      "[1400]\ttrain's multi_logloss: 0.469076\ttrain's f1: 0.794462\tval's multi_logloss: 0.495045\tval's f1: 0.778089\n",
      "[1500]\ttrain's multi_logloss: 0.465724\ttrain's f1: 0.796043\tval's multi_logloss: 0.493594\tval's f1: 0.778589\n",
      "[1600]\ttrain's multi_logloss: 0.462925\ttrain's f1: 0.797848\tval's multi_logloss: 0.492652\tval's f1: 0.779311\n",
      "[1700]\ttrain's multi_logloss: 0.46001\ttrain's f1: 0.799462\tval's multi_logloss: 0.491454\tval's f1: 0.779844\n",
      "[1800]\ttrain's multi_logloss: 0.457318\ttrain's f1: 0.800943\tval's multi_logloss: 0.490398\tval's f1: 0.780078\n",
      "[1900]\ttrain's multi_logloss: 0.45499\ttrain's f1: 0.802167\tval's multi_logloss: 0.489714\tval's f1: 0.780244\n",
      "[2000]\ttrain's multi_logloss: 0.452338\ttrain's f1: 0.803467\tval's multi_logloss: 0.488731\tval's f1: 0.780456\n",
      "[2100]\ttrain's multi_logloss: 0.449873\ttrain's f1: 0.804757\tval's multi_logloss: 0.487953\tval's f1: 0.7808\n",
      "[2200]\ttrain's multi_logloss: 0.447398\ttrain's f1: 0.806029\tval's multi_logloss: 0.487175\tval's f1: 0.781456\n",
      "[2300]\ttrain's multi_logloss: 0.445091\ttrain's f1: 0.807171\tval's multi_logloss: 0.486482\tval's f1: 0.781522\n",
      "[2400]\ttrain's multi_logloss: 0.442628\ttrain's f1: 0.808319\tval's multi_logloss: 0.485694\tval's f1: 0.781644\n",
      "[2500]\ttrain's multi_logloss: 0.440431\ttrain's f1: 0.809376\tval's multi_logloss: 0.485096\tval's f1: 0.781767\n",
      "[2600]\ttrain's multi_logloss: 0.438271\ttrain's f1: 0.810433\tval's multi_logloss: 0.484609\tval's f1: 0.781856\n",
      "[2700]\ttrain's multi_logloss: 0.436267\ttrain's f1: 0.811529\tval's multi_logloss: 0.484256\tval's f1: 0.781989\n",
      "[2800]\ttrain's multi_logloss: 0.434238\ttrain's f1: 0.812705\tval's multi_logloss: 0.483822\tval's f1: 0.782367\n",
      "[2900]\ttrain's multi_logloss: 0.432327\ttrain's f1: 0.813581\tval's multi_logloss: 0.483499\tval's f1: 0.782678\n",
      "[3000]\ttrain's multi_logloss: 0.430543\ttrain's f1: 0.814652\tval's multi_logloss: 0.483213\tval's f1: 0.782844\n",
      "[3100]\ttrain's multi_logloss: 0.428631\ttrain's f1: 0.815667\tval's multi_logloss: 0.482796\tval's f1: 0.782856\n",
      "[3200]\ttrain's multi_logloss: 0.426749\ttrain's f1: 0.816643\tval's multi_logloss: 0.482405\tval's f1: 0.782933\n",
      "[3300]\ttrain's multi_logloss: 0.425018\ttrain's f1: 0.817619\tval's multi_logloss: 0.482113\tval's f1: 0.782978\n",
      "[3400]\ttrain's multi_logloss: 0.42332\ttrain's f1: 0.818633\tval's multi_logloss: 0.481879\tval's f1: 0.783278\n",
      "[3500]\ttrain's multi_logloss: 0.42158\ttrain's f1: 0.819548\tval's multi_logloss: 0.481629\tval's f1: 0.783456\n",
      "[3600]\ttrain's multi_logloss: 0.419844\ttrain's f1: 0.820529\tval's multi_logloss: 0.481335\tval's f1: 0.783322\n",
      "[3700]\ttrain's multi_logloss: 0.418179\ttrain's f1: 0.82141\tval's multi_logloss: 0.481102\tval's f1: 0.783411\n",
      "[3800]\ttrain's multi_logloss: 0.416587\ttrain's f1: 0.822338\tval's multi_logloss: 0.480938\tval's f1: 0.7833\n",
      "[3900]\ttrain's multi_logloss: 0.415065\ttrain's f1: 0.823162\tval's multi_logloss: 0.480832\tval's f1: 0.783344\n",
      "Early stopping, best iteration is:\n",
      "[3642]\ttrain's multi_logloss: 0.41916\ttrain's f1: 0.82081\tval's multi_logloss: 0.481278\tval's f1: 0.783511\n"
     ]
    }
   ],
   "source": [
    "train_data_lgbm = lgbm.Dataset(x_train_, label=y_train_,categorical_feature=cat_data)\n",
    "test_data_lgbm = lgbm.Dataset(x_test_, label=y_test_)\n",
    "cv_data_lgbm=lgbm.Dataset(x_cv_, label=y_cv_)\n",
    "\n",
    "params = {'task': 'train',\n",
    "    'boosting_type': 'gbdt',\n",
    "    'objective': 'multiclass',\n",
    "    'num_class':3,\n",
    "    'learning_rate': 0.05,\n",
    "    'max_depth': 5,\n",
    "    'num_leaves': 20,\n",
    "    'is_unbalanced':True,\n",
    "    'feature_fraction': 0.8,\n",
    "    'bagging_fraction': 0.5,\n",
    "    'lambda_l2':0.01}\n",
    "\n",
    "clf=lgbm.train(params,\n",
    "                       train_data_lgbm,\n",
    "                       valid_sets=[cv_data_lgbm,train_data_lgbm],\n",
    "                       valid_names=['val','train'],\n",
    "                       num_boost_round=5000,\n",
    "                       feval=lgb_f1_score,\n",
    "                       verbose_eval=100,\n",
    "                       early_stopping_rounds=300)"
   ]
  },
  {
   "cell_type": "code",
   "execution_count": 114,
   "metadata": {
    "Collapsed": "false"
   },
   "outputs": [
    {
     "name": "stdout",
     "output_type": "stream",
     "text": [
      "The Light GBM F1 is 0.7847971709563768\n"
     ]
    }
   ],
   "source": [
    "predict_lgbm(clf,x_test_,y_test_)"
   ]
  },
  {
   "cell_type": "code",
   "execution_count": 315,
   "metadata": {
    "Collapsed": "false"
   },
   "outputs": [
    {
     "data": {
      "image/png": "[encoded data removed]",
      "text/plain": [
       "<Figure size 576x576 with 2 Axes>"
      ]
     },
     "metadata": {},
     "output_type": "display_data"
    }
   ],
   "source": [
    "    lgb_prediction = clf.predict(x_test)\n",
    "    lgb_prediction = lgb_prediction.argmax(axis = 1)\n",
    "    plt.figure(figsize=(8,8))\n",
    "    plt.grid(b=False)\n",
    "    cm = metrics.confusion_matrix(y_test_, lgb_prediction)\n",
    "    plot_confusion_matrix(cm, classes=labels, normalize=True, title='Normalized confusion matrix')"
   ]
  },
  {
   "cell_type": "code",
   "execution_count": 135,
   "metadata": {
    "Collapsed": "false"
   },
   "outputs": [
    {
     "data": {
      "text/plain": [
       "['lgbm_model_78.pkl']"
      ]
     },
     "execution_count": 135,
     "metadata": {},
     "output_type": "execute_result"
    }
   ],
   "source": [
    "joblib.dump(clf,'lgbm_model_78.pkl')"
   ]
  },
  {
   "cell_type": "markdown",
   "metadata": {
    "Collapsed": "false"
   },
   "source": [
    "<h4>Learning rate=0.10,bagging_fraction:0.7</h4>"
   ]
  },
  {
   "cell_type": "code",
   "execution_count": 35,
   "metadata": {
    "Collapsed": "false"
   },
   "outputs": [
    {
     "name": "stdout",
     "output_type": "stream",
     "text": [
      "Training until validation scores don't improve for 300 rounds.\n",
      "[100]\ttrain's multi_logloss: 0.541858\ttrain's f1: 0.752583\tval's multi_logloss: 0.544824\tval's f1: 0.749173\n",
      "[200]\ttrain's multi_logloss: 0.518503\ttrain's f1: 0.766451\tval's multi_logloss: 0.527149\tval's f1: 0.759893\n",
      "[300]\ttrain's multi_logloss: 0.502807\ttrain's f1: 0.776126\tval's multi_logloss: 0.516375\tval's f1: 0.766667\n",
      "[400]\ttrain's multi_logloss: 0.490701\ttrain's f1: 0.78264\tval's multi_logloss: 0.509061\tval's f1: 0.770213\n",
      "[500]\ttrain's multi_logloss: 0.480997\ttrain's f1: 0.788074\tval's multi_logloss: 0.503986\tval's f1: 0.773347\n",
      "[600]\ttrain's multi_logloss: 0.472644\ttrain's f1: 0.792817\tval's multi_logloss: 0.500098\tval's f1: 0.775213\n",
      "[700]\ttrain's multi_logloss: 0.465148\ttrain's f1: 0.797017\tval's multi_logloss: 0.496843\tval's f1: 0.777\n",
      "[800]\ttrain's multi_logloss: 0.458807\ttrain's f1: 0.80076\tval's multi_logloss: 0.494501\tval's f1: 0.777947\n",
      "[900]\ttrain's multi_logloss: 0.452532\ttrain's f1: 0.804257\tval's multi_logloss: 0.492256\tval's f1: 0.77892\n",
      "[1000]\ttrain's multi_logloss: 0.446759\ttrain's f1: 0.807429\tval's multi_logloss: 0.490437\tval's f1: 0.779787\n",
      "[1100]\ttrain's multi_logloss: 0.441638\ttrain's f1: 0.81016\tval's multi_logloss: 0.489162\tval's f1: 0.780227\n",
      "[1200]\ttrain's multi_logloss: 0.436705\ttrain's f1: 0.812806\tval's multi_logloss: 0.488194\tval's f1: 0.78064\n",
      "[1300]\ttrain's multi_logloss: 0.43222\ttrain's f1: 0.815143\tval's multi_logloss: 0.487362\tval's f1: 0.78068\n",
      "[1400]\ttrain's multi_logloss: 0.427654\ttrain's f1: 0.817257\tval's multi_logloss: 0.486407\tval's f1: 0.78108\n",
      "[1500]\ttrain's multi_logloss: 0.423356\ttrain's f1: 0.81952\tval's multi_logloss: 0.485552\tval's f1: 0.781573\n",
      "[1600]\ttrain's multi_logloss: 0.419419\ttrain's f1: 0.821691\tval's multi_logloss: 0.485067\tval's f1: 0.781813\n",
      "[1700]\ttrain's multi_logloss: 0.415283\ttrain's f1: 0.823886\tval's multi_logloss: 0.484397\tval's f1: 0.782\n",
      "[1800]\ttrain's multi_logloss: 0.411632\ttrain's f1: 0.825903\tval's multi_logloss: 0.484102\tval's f1: 0.781907\n",
      "[1900]\ttrain's multi_logloss: 0.408186\ttrain's f1: 0.827994\tval's multi_logloss: 0.483877\tval's f1: 0.78196\n",
      "[2000]\ttrain's multi_logloss: 0.404844\ttrain's f1: 0.829817\tval's multi_logloss: 0.483858\tval's f1: 0.78208\n",
      "Early stopping, best iteration is:\n",
      "[1783]\ttrain's multi_logloss: 0.412261\ttrain's f1: 0.825571\tval's multi_logloss: 0.484137\tval's f1: 0.782187\n"
     ]
    }
   ],
   "source": [
    "train_data_lgbm = lgbm.Dataset(x_train_, label=y_train_,categorical_feature=cat_data)\n",
    "test_data_lgbm = lgbm.Dataset(x_test_, label=y_test_)\n",
    "cv_data_lgbm=lgbm.Dataset(x_cv_, label=y_cv_)\n",
    "\n",
    "params = {'task': 'train',\n",
    "    'boosting_type': 'gbdt',\n",
    "    'objective': 'multiclass',\n",
    "    'num_class':3,\n",
    "    'learning_rate': 0.10,\n",
    "    'max_depth': 5,\n",
    "    'num_leaves': 20,\n",
    "    'is_unbalanced':True,\n",
    "    'feature_fraction': 0.8,\n",
    "    'bagging_fraction': 0.7}\n",
    "\n",
    "clf=lgbm.train(params,\n",
    "                       train_data_lgbm,\n",
    "                       valid_sets=[cv_data_lgbm,train_data_lgbm],\n",
    "                       valid_names=['val','train'],\n",
    "                       num_boost_round=5000,\n",
    "                       feval=lgb_f1_score,\n",
    "                       verbose_eval=100,\n",
    "                       early_stopping_rounds=300)"
   ]
  },
  {
   "cell_type": "markdown",
   "metadata": {
    "Collapsed": "false"
   },
   "source": [
    "<h4>Learning rate=0.005,max_depth=7</h4>"
   ]
  },
  {
   "cell_type": "code",
   "execution_count": 36,
   "metadata": {
    "Collapsed": "false"
   },
   "outputs": [
    {
     "name": "stdout",
     "output_type": "stream",
     "text": [
      "Training until validation scores don't improve for 300 rounds.\n",
      "[100]\ttrain's multi_logloss: 0.531448\ttrain's f1: 0.758771\tval's multi_logloss: 0.535439\tval's f1: 0.754627\n",
      "[200]\ttrain's multi_logloss: 0.510563\ttrain's f1: 0.771737\tval's multi_logloss: 0.520742\tval's f1: 0.764707\n",
      "[300]\ttrain's multi_logloss: 0.495702\ttrain's f1: 0.779709\tval's multi_logloss: 0.511796\tval's f1: 0.769347\n",
      "[400]\ttrain's multi_logloss: 0.484187\ttrain's f1: 0.786291\tval's multi_logloss: 0.505858\tval's f1: 0.772453\n",
      "[500]\ttrain's multi_logloss: 0.474263\ttrain's f1: 0.79212\tval's multi_logloss: 0.501383\tval's f1: 0.774587\n",
      "[600]\ttrain's multi_logloss: 0.465534\ttrain's f1: 0.797331\tval's multi_logloss: 0.497922\tval's f1: 0.77668\n",
      "[700]\ttrain's multi_logloss: 0.45777\ttrain's f1: 0.801354\tval's multi_logloss: 0.495301\tval's f1: 0.778\n",
      "[800]\ttrain's multi_logloss: 0.451141\ttrain's f1: 0.805057\tval's multi_logloss: 0.493433\tval's f1: 0.77868\n",
      "[900]\ttrain's multi_logloss: 0.444604\ttrain's f1: 0.80888\tval's multi_logloss: 0.491632\tval's f1: 0.779587\n",
      "[1000]\ttrain's multi_logloss: 0.438771\ttrain's f1: 0.812286\tval's multi_logloss: 0.490256\tval's f1: 0.780267\n",
      "[1100]\ttrain's multi_logloss: 0.432965\ttrain's f1: 0.815286\tval's multi_logloss: 0.488907\tval's f1: 0.780587\n",
      "[1200]\ttrain's multi_logloss: 0.427458\ttrain's f1: 0.818526\tval's multi_logloss: 0.487559\tval's f1: 0.781053\n",
      "[1300]\ttrain's multi_logloss: 0.422391\ttrain's f1: 0.821154\tval's multi_logloss: 0.486705\tval's f1: 0.78132\n",
      "[1400]\ttrain's multi_logloss: 0.417312\ttrain's f1: 0.82404\tval's multi_logloss: 0.485968\tval's f1: 0.781667\n",
      "[1500]\ttrain's multi_logloss: 0.412408\ttrain's f1: 0.826754\tval's multi_logloss: 0.485176\tval's f1: 0.78184\n",
      "[1600]\ttrain's multi_logloss: 0.407985\ttrain's f1: 0.829217\tval's multi_logloss: 0.484551\tval's f1: 0.78196\n",
      "[1700]\ttrain's multi_logloss: 0.403472\ttrain's f1: 0.831897\tval's multi_logloss: 0.483961\tval's f1: 0.782573\n",
      "[1800]\ttrain's multi_logloss: 0.399461\ttrain's f1: 0.833869\tval's multi_logloss: 0.483902\tval's f1: 0.78244\n",
      "[1900]\ttrain's multi_logloss: 0.395661\ttrain's f1: 0.836406\tval's multi_logloss: 0.483683\tval's f1: 0.782307\n",
      "[2000]\ttrain's multi_logloss: 0.391633\ttrain's f1: 0.838566\tval's multi_logloss: 0.483382\tval's f1: 0.78248\n",
      "Early stopping, best iteration is:\n",
      "[1732]\ttrain's multi_logloss: 0.402204\ttrain's f1: 0.832451\tval's multi_logloss: 0.483868\tval's f1: 0.782787\n"
     ]
    }
   ],
   "source": [
    "train_data_lgbm = lgbm.Dataset(x_train_, label=y_train_,categorical_feature=cat_data)\n",
    "test_data_lgbm = lgbm.Dataset(x_test_, label=y_test_)\n",
    "cv_data_lgbm=lgbm.Dataset(x_cv_, label=y_cv_)\n",
    "\n",
    "params = {'task': 'train',\n",
    "    'boosting_type': 'gbdt',\n",
    "    'objective': 'multiclass',\n",
    "    'num_class':3,\n",
    "    'learning_rate': 0.10,\n",
    "    'max_depth': 7,\n",
    "    'num_leaves': 20,\n",
    "    'is_unbalanced':True,\n",
    "    'feature_fraction': 0.8,\n",
    "    'bagging_fraction': 0.7}\n",
    "\n",
    "clf=lgbm.train(params,\n",
    "                       train_data_lgbm,\n",
    "                       valid_sets=[cv_data_lgbm,train_data_lgbm],\n",
    "                       valid_names=['val','train'],\n",
    "                       num_boost_round=5000,\n",
    "                       feval=lgb_f1_score,\n",
    "                       verbose_eval=100,\n",
    "                       early_stopping_rounds=300)"
   ]
  },
  {
   "cell_type": "markdown",
   "metadata": {
    "Collapsed": "false"
   },
   "source": [
    "#### LightGBM Evaluation:"
   ]
  },
  {
   "cell_type": "code",
   "execution_count": 53,
   "metadata": {
    "Collapsed": "false"
   },
   "outputs": [
    {
     "name": "stdout",
     "output_type": "stream",
     "text": [
      "The Light GBM F1 is 0.7837277504773027\n"
     ]
    }
   ],
   "source": [
    "predict_lgbm(clf,x_test_,y_test_)"
   ]
  },
  {
   "cell_type": "code",
   "execution_count": 51,
   "metadata": {
    "Collapsed": "false"
   },
   "outputs": [
    {
     "data": {
      "image/png": "[encoded data removed]",
      "text/plain": [
       "<Figure size 576x576 with 2 Axes>"
      ]
     },
     "metadata": {},
     "output_type": "display_data"
    }
   ],
   "source": [
    "    lgb_prediction = clf.predict(x_test)\n",
    "    lgb_prediction = lgb_prediction.argmax(axis = 1)\n",
    "    plt.figure(figsize=(8,8))\n",
    "    plt.grid(b=False)\n",
    "    cm = metrics.confusion_matrix(y_test_, lgb_prediction)\n",
    "    plot_confusion_matrix(cm, classes=labels, normalize=True, title='Normalized confusion matrix')"
   ]
  },
  {
   "cell_type": "markdown",
   "metadata": {
    "Collapsed": "false"
   },
   "source": [
    "<h4>Parameter Tuning: num_leaves</h4>"
   ]
  },
  {
   "cell_type": "code",
   "execution_count": 244,
   "metadata": {
    "Collapsed": "false"
   },
   "outputs": [
    {
     "name": "stdout",
     "output_type": "stream",
     "text": [
      "Num leaves: 10\n",
      "Training until validation scores don't improve for 50 rounds.\n",
      "[100]\ttrain's multi_logloss: 0.567422\ttrain's f1: 0.731926\tval's multi_logloss: 0.569953\tval's f1: 0.729507\n",
      "[200]\ttrain's multi_logloss: 0.548933\ttrain's f1: 0.746137\tval's multi_logloss: 0.552683\tval's f1: 0.743453\n",
      "[300]\ttrain's multi_logloss: 0.539184\ttrain's f1: 0.752286\tval's multi_logloss: 0.544218\tval's f1: 0.749027\n",
      "[400]\ttrain's multi_logloss: 0.531795\ttrain's f1: 0.757229\tval's multi_logloss: 0.538232\tval's f1: 0.752653\n",
      "[500]\ttrain's multi_logloss: 0.525669\ttrain's f1: 0.761429\tval's multi_logloss: 0.53335\tval's f1: 0.75632\n",
      "Did not meet early stopping. Best iteration is:\n",
      "[500]\ttrain's multi_logloss: 0.525669\ttrain's f1: 0.761429\tval's multi_logloss: 0.53335\tval's f1: 0.75632\n",
      "---------------------------------------------------\n",
      "Num leaves: 20\n",
      "Training until validation scores don't improve for 50 rounds.\n",
      "[100]\ttrain's multi_logloss: 0.562164\ttrain's f1: 0.735674\tval's multi_logloss: 0.565938\tval's f1: 0.7322\n",
      "[200]\ttrain's multi_logloss: 0.540678\ttrain's f1: 0.751394\tval's multi_logloss: 0.546827\tval's f1: 0.74692\n",
      "[300]\ttrain's multi_logloss: 0.527169\ttrain's f1: 0.759823\tval's multi_logloss: 0.535834\tval's f1: 0.75396\n",
      "[400]\ttrain's multi_logloss: 0.516495\ttrain's f1: 0.768034\tval's multi_logloss: 0.527719\tval's f1: 0.759547\n",
      "[500]\ttrain's multi_logloss: 0.50771\ttrain's f1: 0.773223\tval's multi_logloss: 0.521295\tval's f1: 0.764493\n",
      "Did not meet early stopping. Best iteration is:\n",
      "[500]\ttrain's multi_logloss: 0.50771\ttrain's f1: 0.773223\tval's multi_logloss: 0.521295\tval's f1: 0.764493\n",
      "---------------------------------------------------\n",
      "Num leaves: 30\n",
      "Training until validation scores don't improve for 50 rounds.\n",
      "[100]\ttrain's multi_logloss: 0.56201\ttrain's f1: 0.735554\tval's multi_logloss: 0.565823\tval's f1: 0.732133\n",
      "[200]\ttrain's multi_logloss: 0.539049\ttrain's f1: 0.751811\tval's multi_logloss: 0.546056\tval's f1: 0.746853\n",
      "[300]\ttrain's multi_logloss: 0.524125\ttrain's f1: 0.762137\tval's multi_logloss: 0.534697\tval's f1: 0.755547\n",
      "[400]\ttrain's multi_logloss: 0.512499\ttrain's f1: 0.770326\tval's multi_logloss: 0.52631\tval's f1: 0.761533\n",
      "[500]\ttrain's multi_logloss: 0.502297\ttrain's f1: 0.776377\tval's multi_logloss: 0.519105\tval's f1: 0.7664\n",
      "Did not meet early stopping. Best iteration is:\n",
      "[500]\ttrain's multi_logloss: 0.502297\ttrain's f1: 0.776377\tval's multi_logloss: 0.519105\tval's f1: 0.7664\n",
      "---------------------------------------------------\n",
      "Num leaves: 40\n",
      "Training until validation scores don't improve for 50 rounds.\n",
      "[100]\ttrain's multi_logloss: 0.561985\ttrain's f1: 0.73552\tval's multi_logloss: 0.565793\tval's f1: 0.732187\n",
      "[200]\ttrain's multi_logloss: 0.539189\ttrain's f1: 0.751926\tval's multi_logloss: 0.546108\tval's f1: 0.74688\n",
      "[300]\ttrain's multi_logloss: 0.524593\ttrain's f1: 0.761383\tval's multi_logloss: 0.534993\tval's f1: 0.754387\n",
      "[400]\ttrain's multi_logloss: 0.512769\ttrain's f1: 0.770183\tval's multi_logloss: 0.526504\tval's f1: 0.760733\n",
      "[500]\ttrain's multi_logloss: 0.503195\ttrain's f1: 0.775663\tval's multi_logloss: 0.519938\tval's f1: 0.76476\n",
      "Did not meet early stopping. Best iteration is:\n",
      "[500]\ttrain's multi_logloss: 0.503195\ttrain's f1: 0.775663\tval's multi_logloss: 0.519938\tval's f1: 0.76476\n",
      "---------------------------------------------------\n",
      "Num leaves: 50\n",
      "Training until validation scores don't improve for 50 rounds.\n",
      "[100]\ttrain's multi_logloss: 0.561985\ttrain's f1: 0.73552\tval's multi_logloss: 0.565793\tval's f1: 0.732187\n",
      "[200]\ttrain's multi_logloss: 0.539189\ttrain's f1: 0.751926\tval's multi_logloss: 0.546108\tval's f1: 0.74688\n",
      "[300]\ttrain's multi_logloss: 0.524593\ttrain's f1: 0.761383\tval's multi_logloss: 0.534993\tval's f1: 0.754387\n",
      "[400]\ttrain's multi_logloss: 0.512769\ttrain's f1: 0.770183\tval's multi_logloss: 0.526504\tval's f1: 0.760733\n",
      "[500]\ttrain's multi_logloss: 0.503195\ttrain's f1: 0.775663\tval's multi_logloss: 0.519938\tval's f1: 0.76476\n",
      "Did not meet early stopping. Best iteration is:\n",
      "[500]\ttrain's multi_logloss: 0.503195\ttrain's f1: 0.775663\tval's multi_logloss: 0.519938\tval's f1: 0.76476\n",
      "---------------------------------------------------\n"
     ]
    }
   ],
   "source": [
    "num_leaves=[10,20,30,40,50]\n",
    "for n in num_leaves:\n",
    "        train_data_lgbm = lgbm.Dataset(x_train_, label=y_train_,categorical_feature=cat_data)\n",
    "        test_data_lgbm = lgbm.Dataset(x_test_, label=y_test_)\n",
    "        cv_data_lgbm=lgbm.Dataset(x_cv_, label=y_cv_)\n",
    "        params = {'task': 'train',\n",
    "        'boosting_type': 'gbdt',\n",
    "        'objective': 'multiclass',\n",
    "        'num_class':3,\n",
    "        'learning_rate': 0.05,\n",
    "        'max_depth': 5,\n",
    "        'num_leaves': n,\n",
    "        'is_unbalanced':True,\n",
    "        'feature_fraction': 0.8,\n",
    "        'bagging_fraction': 0.5}\n",
    "        print('Num leaves:',n)\n",
    "        clf=lgbm.train(params,train_data_lgbm,valid_sets=[cv_data_lgbm,train_data_lgbm],\n",
    "                       valid_names=['val','train'],num_boost_round=500,\n",
    "                       feval=lgb_f1_score,verbose_eval=100,early_stopping_rounds=50)\n",
    "        print('---------------------------------------------------')\n"
   ]
  },
  {
   "cell_type": "markdown",
   "metadata": {
    "Collapsed": "false"
   },
   "source": [
    "<h4>Parameter Tuning: max_depth</h4>"
   ]
  },
  {
   "cell_type": "code",
   "execution_count": 245,
   "metadata": {
    "Collapsed": "false"
   },
   "outputs": [
    {
     "name": "stdout",
     "output_type": "stream",
     "text": [
      "Num leaves: 2\n",
      "Training until validation scores don't improve for 200 rounds.\n",
      "[500]\ttrain's multi_logloss: 0.556905\ttrain's f1: 0.740349\tval's multi_logloss: 0.559254\tval's f1: 0.737893\n",
      "[1000]\ttrain's multi_logloss: 0.543105\ttrain's f1: 0.749726\tval's multi_logloss: 0.546693\tval's f1: 0.746947\n",
      "[1500]\ttrain's multi_logloss: 0.533597\ttrain's f1: 0.756463\tval's multi_logloss: 0.53806\tval's f1: 0.752693\n",
      "[2000]\ttrain's multi_logloss: 0.527038\ttrain's f1: 0.760697\tval's multi_logloss: 0.532307\tval's f1: 0.756653\n",
      "[2500]\ttrain's multi_logloss: 0.520838\ttrain's f1: 0.764063\tval's multi_logloss: 0.526819\tval's f1: 0.760573\n",
      "[3000]\ttrain's multi_logloss: 0.516786\ttrain's f1: 0.766349\tval's multi_logloss: 0.523396\tval's f1: 0.762933\n",
      "[3500]\ttrain's multi_logloss: 0.513335\ttrain's f1: 0.768086\tval's multi_logloss: 0.52069\tval's f1: 0.763947\n",
      "[4000]\ttrain's multi_logloss: 0.510373\ttrain's f1: 0.769783\tval's multi_logloss: 0.518523\tval's f1: 0.765013\n",
      "[4500]\ttrain's multi_logloss: 0.50788\ttrain's f1: 0.771354\tval's multi_logloss: 0.516739\tval's f1: 0.765947\n",
      "[5000]\ttrain's multi_logloss: 0.505507\ttrain's f1: 0.772434\tval's multi_logloss: 0.515009\tval's f1: 0.767107\n",
      "Did not meet early stopping. Best iteration is:\n",
      "[5000]\ttrain's multi_logloss: 0.505507\ttrain's f1: 0.772434\tval's multi_logloss: 0.515009\tval's f1: 0.767107\n",
      "---------------------------------------------------\n",
      "Num leaves: 3\n",
      "Training until validation scores don't improve for 200 rounds.\n",
      "[500]\ttrain's multi_logloss: 0.540681\ttrain's f1: 0.751926\tval's multi_logloss: 0.545448\tval's f1: 0.747587\n",
      "[1000]\ttrain's multi_logloss: 0.520594\ttrain's f1: 0.765046\tval's multi_logloss: 0.528659\tval's f1: 0.759827\n",
      "[1500]\ttrain's multi_logloss: 0.506837\ttrain's f1: 0.772869\tval's multi_logloss: 0.517903\tval's f1: 0.766533\n",
      "[2000]\ttrain's multi_logloss: 0.497194\ttrain's f1: 0.778109\tval's multi_logloss: 0.511126\tval's f1: 0.7698\n",
      "[2500]\ttrain's multi_logloss: 0.489695\ttrain's f1: 0.782046\tval's multi_logloss: 0.506337\tval's f1: 0.771827\n",
      "[3000]\ttrain's multi_logloss: 0.483305\ttrain's f1: 0.785406\tval's multi_logloss: 0.502607\tval's f1: 0.7746\n",
      "[3500]\ttrain's multi_logloss: 0.478097\ttrain's f1: 0.787983\tval's multi_logloss: 0.499905\tval's f1: 0.775787\n",
      "[4000]\ttrain's multi_logloss: 0.473528\ttrain's f1: 0.790029\tval's multi_logloss: 0.497755\tval's f1: 0.777027\n",
      "[4500]\ttrain's multi_logloss: 0.469397\ttrain's f1: 0.792286\tval's multi_logloss: 0.496022\tval's f1: 0.778053\n",
      "[5000]\ttrain's multi_logloss: 0.465722\ttrain's f1: 0.794183\tval's multi_logloss: 0.494726\tval's f1: 0.778707\n",
      "Did not meet early stopping. Best iteration is:\n",
      "[5000]\ttrain's multi_logloss: 0.465722\ttrain's f1: 0.794183\tval's multi_logloss: 0.494726\tval's f1: 0.778707\n",
      "---------------------------------------------------\n",
      "Num leaves: 5\n",
      "Training until validation scores don't improve for 200 rounds.\n",
      "[500]\ttrain's multi_logloss: 0.503195\ttrain's f1: 0.775663\tval's multi_logloss: 0.519938\tval's f1: 0.76476\n",
      "[1000]\ttrain's multi_logloss: 0.468868\ttrain's f1: 0.794326\tval's multi_logloss: 0.499916\tval's f1: 0.775947\n",
      "[1500]\ttrain's multi_logloss: 0.447501\ttrain's f1: 0.805571\tval's multi_logloss: 0.491601\tval's f1: 0.78032\n",
      "[2000]\ttrain's multi_logloss: 0.431815\ttrain's f1: 0.814503\tval's multi_logloss: 0.487975\tval's f1: 0.781827\n",
      "[2500]\ttrain's multi_logloss: 0.417712\ttrain's f1: 0.822983\tval's multi_logloss: 0.48525\tval's f1: 0.783333\n",
      "Early stopping, best iteration is:\n",
      "[2592]\ttrain's multi_logloss: 0.415547\ttrain's f1: 0.824206\tval's multi_logloss: 0.485153\tval's f1: 0.783547\n",
      "---------------------------------------------------\n",
      "Num leaves: 7\n",
      "Training until validation scores don't improve for 200 rounds.\n",
      "[500]\ttrain's multi_logloss: 0.475121\ttrain's f1: 0.792217\tval's multi_logloss: 0.503861\tval's f1: 0.774733\n",
      "[1000]\ttrain's multi_logloss: 0.438519\ttrain's f1: 0.812114\tval's multi_logloss: 0.490772\tval's f1: 0.780413\n",
      "[1500]\ttrain's multi_logloss: 0.411805\ttrain's f1: 0.827154\tval's multi_logloss: 0.485274\tval's f1: 0.783627\n",
      "Early stopping, best iteration is:\n",
      "[1707]\ttrain's multi_logloss: 0.402255\ttrain's f1: 0.833131\tval's multi_logloss: 0.483799\tval's f1: 0.78464\n",
      "---------------------------------------------------\n"
     ]
    }
   ],
   "source": [
    "max_depth=[2,3,5,7]\n",
    "for n in max_depth:\n",
    "        train_data_lgbm = lgbm.Dataset(x_train_, label=y_train_,categorical_feature=cat_data)\n",
    "        test_data_lgbm = lgbm.Dataset(x_test_, label=y_test_)\n",
    "        cv_data_lgbm=lgbm.Dataset(x_cv_, label=y_cv_)\n",
    "        params = {'task': 'train',\n",
    "        'boosting_type': 'gbdt',\n",
    "        'objective': 'multiclass',\n",
    "        'num_class':3,\n",
    "        'learning_rate': 0.05,\n",
    "        'max_depth': n,\n",
    "        'num_leaves': 40,\n",
    "        'is_unbalanced':True,\n",
    "        'feature_fraction': 0.8,\n",
    "        'bagging_fraction': 0.5}\n",
    "        print('Num leaves:',n)\n",
    "        clf=lgbm.train(params,train_data_lgbm,valid_sets=[cv_data_lgbm,train_data_lgbm],\n",
    "                       valid_names=['val','train'],num_boost_round=5000,\n",
    "                       feval=lgb_f1_score,verbose_eval=500,early_stopping_rounds=200)\n",
    "        print('---------------------------------------------------')\n"
   ]
  },
  {
   "cell_type": "markdown",
   "metadata": {
    "Collapsed": "false"
   },
   "source": [
    "<h3>Majority Voting Classifier</h3>"
   ]
  },
  {
   "cell_type": "code",
   "execution_count": 165,
   "metadata": {
    "Collapsed": "false"
   },
   "outputs": [],
   "source": [
    "model_lr=pickle.load(open('log_reg_model.pkl','rb'))\n",
    "model_rf=pickle.load(open('random_forest_model_65.pkl','rb'))\n",
    "model_lgbm=pickle.load(open('lgbm_model_78.pkl','rb'))"
   ]
  },
  {
   "cell_type": "code",
   "execution_count": 225,
   "metadata": {
    "Collapsed": "false"
   },
   "outputs": [],
   "source": [
    "import statistics"
   ]
  },
  {
   "cell_type": "code",
   "execution_count": 227,
   "metadata": {
    "Collapsed": "false"
   },
   "outputs": [],
   "source": [
    "def majority_voting_predict(model_lr,model_rf,model_lgbm):\n",
    "    y_pred_=[]\n",
    "    lgb_prediction_proba = model_lgbm.predict(x_test_)\n",
    "    lgb_prediction = lgb_prediction_proba.argmax(axis = 1)\n",
    "    lgb_prediction=lgb_prediction+1\n",
    "    y_pred_=lgb_prediction\n",
    "    lr_prediction_proba=model_lr.predict_proba(test_data_final)\n",
    "    rf_prediction_proba=model_rf.predict_proba(test_data_final)\n",
    "    lr_prediction=model_lr.predict(test_data_final)\n",
    "    rf_prediction=model_rf.predict(test_data_final)\n",
    "    for i in range(len(lr_prediction)):\n",
    "        if lr_prediction[i]=='Low':\n",
    "            lr_prediction[i]=1\n",
    "        elif lr_prediction[i]=='Medium':\n",
    "            lr_prediction[i]=2\n",
    "        else:\n",
    "            lr_prediction[i]=3\n",
    "    for i in range(len(lr_prediction)):\n",
    "        if rf_prediction[i]=='Low':\n",
    "            rf_prediction[i]=1\n",
    "        elif rf_prediction[i]=='Medium':\n",
    "            rf_prediction[i]=2\n",
    "        else:\n",
    "            rf_prediction[i]=3\n",
    "    for i in range(len(rf_prediction)):\n",
    "        if((lgb_prediction[i]!=lr_prediction[i])and(lr_prediction[i]!=rf_prediction[i])and(lgb_prediction[i]!=rf_prediction[i])):\n",
    "            lgb_confidence=lgb_prediction_proba[i][lgb_prediction[i]-1]\n",
    "            lr_confidence=lr_prediction_proba[i][lr_prediction[i]-1]\n",
    "            rf_confidence=rf_prediction_proba[i][rf_prediction[i]-1]\n",
    "            if((lgb_confidence>=lr_confidence)and(lgb_confidence>=rf_confidence)):\n",
    "                y_pred_[i]=lgb_prediction[i]\n",
    "            elif((lr_confidence>=lgb_confidence)and(lr_confidence>=rf_confidence)):\n",
    "                y_pred_[i]=lr_prediction[i]\n",
    "            else:\n",
    "                y_pred_[i]=rf_prediction[i]  \n",
    "        else:\n",
    "            temp=[]\n",
    "            temp.append(lgb_prediction[i])\n",
    "            temp.append(lr_prediction[i])\n",
    "            temp.append(rf_prediction[i])\n",
    "            y_pred_[i]=statistics.mode(temp)\n",
    "    return y_pred_\n",
    "\n",
    "    "
   ]
  },
  {
   "cell_type": "code",
   "execution_count": 332,
   "metadata": {
    "Collapsed": "false"
   },
   "outputs": [],
   "source": [
    "y_pred_=majority_voting_predict(lr_model,rf_model,clf)\n",
    "y_truth=y_test_+1"
   ]
  },
  {
   "cell_type": "code",
   "execution_count": 333,
   "metadata": {
    "Collapsed": "false"
   },
   "outputs": [
    {
     "data": {
      "text/plain": [
       "0.7437524193178017"
      ]
     },
     "execution_count": 333,
     "metadata": {},
     "output_type": "execute_result"
    }
   ],
   "source": [
    "score=f1_score(y_truth,y_pred_,average='micro')\n",
    "score"
   ]
  },
  {
   "cell_type": "code",
   "execution_count": 334,
   "metadata": {
    "Collapsed": "false"
   },
   "outputs": [
    {
     "data": {
      "image/png": "[encoded data removed]",
      "text/plain": [
       "<Figure size 432x288 with 2 Axes>"
      ]
     },
     "metadata": {},
     "output_type": "display_data"
    }
   ],
   "source": [
    "plt.grid(b=False)\n",
    "cm = metrics.confusion_matrix(y_truth, y_pred_)\n",
    "plot_confusion_matrix(cm, classes=labels, normalize=True, title='Normalized confusion matrix')"
   ]
  },
  {
   "cell_type": "markdown",
   "metadata": {
    "Collapsed": "false"
   },
   "source": [
    "# Deep Learning Models:"
   ]
  },
  {
   "cell_type": "markdown",
   "metadata": {
    "Collapsed": "false"
   },
   "source": [
    "#### Data Preparation for Deep Leaning Models:"
   ]
  },
  {
   "cell_type": "code",
   "execution_count": 367,
   "metadata": {
    "Collapsed": "false"
   },
   "outputs": [],
   "source": [
    "from keras.models import Sequential\n",
    "from keras.layers import Dense\n",
    "from keras.wrappers.scikit_learn import KerasClassifier\n",
    "from keras.utils import np_utils\n",
    "from sklearn.model_selection import cross_val_score\n",
    "from sklearn.model_selection import KFold\n",
    "from sklearn.preprocessing import LabelEncoder\n",
    "from sklearn.pipeline import Pipeline\n",
    "from tensorflow import keras\n",
    "from tensorflow import keras\n",
    "from keras import backend as K\n",
    "from tensorflow.keras.callbacks import EarlyStopping\n",
    "from keras.models import Sequential\n",
    "from keras.layers import LSTM,Conv1D\n",
    "from keras.layers.core import Dense, Dropout\n",
    "from keras.layers import BatchNormalization,MaxPooling1D,Flatten\n",
    "from keras.layers import GRU\n",
    "import tensorflow as tf"
   ]
  },
  {
   "cell_type": "code",
   "execution_count": 368,
   "metadata": {
    "Collapsed": "false"
   },
   "outputs": [],
   "source": [
    "# Importing tensorflow\n",
    "np.random.seed(42)\n",
    "tf.set_random_seed(42)\n",
    "# Configuring a session\n",
    "session_conf = tf.ConfigProto(\n",
    "    intra_op_parallelism_threads=1,\n",
    "    inter_op_parallelism_threads=1\n",
    ")"
   ]
  },
  {
   "cell_type": "code",
   "execution_count": 369,
   "metadata": {
    "Collapsed": "false"
   },
   "outputs": [],
   "source": [
    "sess = tf.Session(graph=tf.get_default_graph(), config=session_conf)\n",
    "K.set_session(sess)"
   ]
  },
  {
   "cell_type": "code",
   "execution_count": 380,
   "metadata": {
    "Collapsed": "false"
   },
   "outputs": [],
   "source": [
    "x_train_=np.expand_dims(x_train_,2)\n",
    "x_cv_=np.expand_dims(x_cv_,2)\n",
    "x_test_=np.expand_dims(x_test_,2)\n",
    "y_train=np_utils.to_categorical(y_train_)\n",
    "y_test=np_utils.to_categorical(y_test_)\n",
    "y_cv=np_utils.to_categorical(y_cv_)"
   ]
  },
  {
   "cell_type": "code",
   "execution_count": 371,
   "metadata": {
    "Collapsed": "false"
   },
   "outputs": [],
   "source": [
    "num_classes=3"
   ]
  },
  {
   "cell_type": "code",
   "execution_count": 372,
   "metadata": {
    "Collapsed": "false"
   },
   "outputs": [],
   "source": [
    "def predict_(model,x_test,y_test):\n",
    "    y_predict = np.asarray(model.predict(x_test))\n",
    "    print(y_predict.shape)\n",
    "    y_predict =y_predict.reshape((3,-1)).argmax(axis=0) \n",
    "    acc=accuracy_score(y_test, y_predict)\n",
    "    score=f1_score(y_test, y_predict,average='micro')\n",
    "    print(\"The micro F1 score of the model is\", score)\n",
    "    print(\"The accuracy score of the model is\", acc)"
   ]
  },
  {
   "cell_type": "code",
   "execution_count": 373,
   "metadata": {
    "Collapsed": "false"
   },
   "outputs": [],
   "source": [
    "#https://datascience.stackexchange.com/questions/45165/how-to-get-accuracy-f1-precision-and-recall-for-a-keras-model\n",
    "def recall_m(y_true, y_pred):\n",
    "        true_positives = K.sum(K.round(K.clip(y_true * y_pred, 0, 1)))\n",
    "        possible_positives = K.sum(K.round(K.clip(y_true, 0, 1)))\n",
    "        recall = true_positives / (possible_positives + K.epsilon())\n",
    "        return recall\n",
    "\n",
    "def precision_m(y_true, y_pred):\n",
    "        true_positives = K.sum(K.round(K.clip(y_true * y_pred, 0, 1)))\n",
    "        predicted_positives = K.sum(K.round(K.clip(y_pred, 0, 1)))\n",
    "        precision = true_positives / (predicted_positives + K.epsilon())\n",
    "        return precision\n",
    "\n",
    "def f1_m(y_true, y_pred):\n",
    "    precision = precision_m(y_true, y_pred)\n",
    "    recall = recall_m(y_true, y_pred)\n",
    "    return 2*((precision*recall)/(precision+recall+K.epsilon()))"
   ]
  },
  {
   "cell_type": "code",
   "execution_count": 374,
   "metadata": {
    "Collapsed": "false"
   },
   "outputs": [],
   "source": [
    "def run_model(model,es_round=5,epoch=30,batch_size=64):\n",
    "    model.compile(loss='categorical_crossentropy',\n",
    "              optimizer='rmsprop',\n",
    "              metrics=['accuracy',f1_m])\n",
    "    cb=EarlyStopping(monitor='val_f1_m', min_delta=0, patience=es_round, verbose=0, mode='auto', baseline=None, restore_best_weights=True)\n",
    "    model.fit(x_train_,y_train,batch_size=64,validation_data=(x_cv_,y_cv),callbacks=[cb],epochs=epoch,verbose=1)\n",
    "    score=model.evaluate(x_test_,y_test)\n",
    "    print('Evaluating Test Score..........')\n",
    "    print(\"Test Loss:{} \".format(round(score[0],2)))\n",
    "    print(\"Test Accuracy:{} %\".format(int(round(score[1]*100))))\n",
    "    print(\"Test F1 Score:{} \".format(score[2]))\n",
    "    print('completed.')\n",
    "    "
   ]
  },
  {
   "cell_type": "code",
   "execution_count": 375,
   "metadata": {
    "Collapsed": "false"
   },
   "outputs": [],
   "source": [
    "batch_size=128\n",
    "timesteps=x_train_.shape[1]\n",
    "input_dimension=1\n",
    "n_classes=3"
   ]
  },
  {
   "cell_type": "code",
   "execution_count": 384,
   "metadata": {
    "Collapsed": "false"
   },
   "outputs": [
    {
     "name": "stdout",
     "output_type": "stream",
     "text": [
      "_________________________________________________________________\n",
      "Layer (type)                 Output Shape              Param #   \n",
      "=================================================================\n",
      "dense_12 (Dense)             (None, 41, 64)            128       \n",
      "_________________________________________________________________\n",
      "dense_13 (Dense)             (None, 41, 32)            2080      \n",
      "_________________________________________________________________\n",
      "dense_14 (Dense)             (None, 41, 3)             99        \n",
      "=================================================================\n",
      "Total params: 2,307\n",
      "Trainable params: 2,307\n",
      "Non-trainable params: 0\n",
      "_________________________________________________________________\n"
     ]
    }
   ],
   "source": [
    "model=Sequential()\n",
    "model.add(Dense(64,input_shape=(timesteps,input_dimension)))\n",
    "model.add(Dense(32,activation='relu'))\n",
    "model.add(Dense(3,activation='softmax'))\n",
    "model.summary()"
   ]
  },
  {
   "cell_type": "markdown",
   "metadata": {
    "Collapsed": "false"
   },
   "source": [
    "#### 1 LSTM, 3 Dense layers:"
   ]
  },
  {
   "cell_type": "code",
   "execution_count": 165,
   "metadata": {
    "Collapsed": "false"
   },
   "outputs": [
    {
     "name": "stdout",
     "output_type": "stream",
     "text": [
      "_________________________________________________________________\n",
      "Layer (type)                 Output Shape              Param #   \n",
      "=================================================================\n",
      "lstm_10 (LSTM)               (None, 32)                4352      \n",
      "_________________________________________________________________\n",
      "dense_31 (Dense)             (None, 64)                2112      \n",
      "_________________________________________________________________\n",
      "dense_32 (Dense)             (None, 3)                 195       \n",
      "=================================================================\n",
      "Total params: 6,659\n",
      "Trainable params: 6,659\n",
      "Non-trainable params: 0\n",
      "_________________________________________________________________\n"
     ]
    }
   ],
   "source": [
    "model=Sequential()\n",
    "model.add(LSTM(32,input_shape=(timesteps,input_dimension)))\n",
    "model.add(Dense(64,activation='relu'))\n",
    "model.add(Dense(3,activation='softmax'))\n",
    "model.summary()"
   ]
  },
  {
   "cell_type": "code",
   "execution_count": 166,
   "metadata": {
    "Collapsed": "false"
   },
   "outputs": [],
   "source": [
    "model.compile(loss='categorical_crossentropy', optimizer='adam', metrics=['accuracy',f1_m])"
   ]
  },
  {
   "cell_type": "code",
   "execution_count": 167,
   "metadata": {
    "Collapsed": "false"
   },
   "outputs": [],
   "source": [
    "es=EarlyStopping(monitor='val_f1_m', min_delta=0, patience=5, verbose=0, mode='auto', baseline=None, restore_best_weights=True)"
   ]
  },
  {
   "cell_type": "code",
   "execution_count": 169,
   "metadata": {
    "Collapsed": "false"
   },
   "outputs": [
    {
     "name": "stdout",
     "output_type": "stream",
     "text": [
      "Train on 175000 samples, validate on 75000 samples\n",
      "Epoch 1/30\n",
      "175000/175000 [==============================] - 170s 973us/step - loss: 0.6725 - acc: 0.6774 - f1_m: 0.6354 - val_loss: 0.6132 - val_acc: 0.7062 - val_f1_m: 0.6655\n",
      "Epoch 2/30\n",
      "175000/175000 [==============================] - 170s 971us/step - loss: 0.6077 - acc: 0.7069 - f1_m: 0.6767 - val_loss: 0.5973 - val_acc: 0.7109 - val_f1_m: 0.6729\n",
      "Epoch 3/30\n",
      "175000/175000 [==============================] - 188s 1ms/step - loss: 0.5986 - acc: 0.7099 - f1_m: 0.6817 - val_loss: 0.5978 - val_acc: 0.7084 - val_f1_m: 0.6962\n",
      "Epoch 4/30\n",
      "175000/175000 [==============================] - 205s 1ms/step - loss: 0.5927 - acc: 0.7141 - f1_m: 0.6874 - val_loss: 0.5932 - val_acc: 0.7123 - val_f1_m: 0.6985\n",
      "Epoch 5/30\n",
      "175000/175000 [==============================] - 213s 1ms/step - loss: 0.5879 - acc: 0.7169 - f1_m: 0.6910 - val_loss: 0.5837 - val_acc: 0.7201 - val_f1_m: 0.6940\n",
      "Epoch 6/30\n",
      "175000/175000 [==============================] - 205s 1ms/step - loss: 0.5851 - acc: 0.7191 - f1_m: 0.6933 - val_loss: 0.5853 - val_acc: 0.7196 - val_f1_m: 0.7098\n"
     ]
    }
   ],
   "source": [
    "history=model.fit(x_train_,y_train,batch_size=64,validation_data=(x_cv_,y_cv),callbacks=[es],epochs=30,verbose=1)\n"
   ]
  },
  {
   "cell_type": "markdown",
   "metadata": {
    "Collapsed": "false"
   },
   "source": [
    "#### 1 LSTM,2 Dense layers with Dropout and BN:"
   ]
  },
  {
   "cell_type": "code",
   "execution_count": 389,
   "metadata": {
    "Collapsed": "false"
   },
   "outputs": [
    {
     "name": "stdout",
     "output_type": "stream",
     "text": [
      "_________________________________________________________________\n",
      "Layer (type)                 Output Shape              Param #   \n",
      "=================================================================\n",
      "lstm_2 (LSTM)                (None, 32)                4352      \n",
      "_________________________________________________________________\n",
      "dropout_2 (Dropout)          (None, 32)                0         \n",
      "_________________________________________________________________\n",
      "dense_17 (Dense)             (None, 64)                2112      \n",
      "_________________________________________________________________\n",
      "batch_normalization_2 (Batch (None, 64)                256       \n",
      "_________________________________________________________________\n",
      "dense_18 (Dense)             (None, 3)                 195       \n",
      "=================================================================\n",
      "Total params: 6,915\n",
      "Trainable params: 6,787\n",
      "Non-trainable params: 128\n",
      "_________________________________________________________________\n"
     ]
    }
   ],
   "source": [
    "# Initiliazing the sequential model\n",
    "model = Sequential()\n",
    "# Configuring the parameters\n",
    "model.add(LSTM(32, input_shape=(timesteps, input_dimension)))\n",
    "model.add(Dropout(0.4))\n",
    "model.add(Dense(64, activation='relu'))\n",
    "model.add((BatchNormalization()))\n",
    "model.add(Dense(3, activation='softmax'))\n",
    "model.summary()"
   ]
  },
  {
   "cell_type": "code",
   "execution_count": 387,
   "metadata": {
    "Collapsed": "false"
   },
   "outputs": [],
   "source": [
    "model.compile(loss='categorical_crossentropy', optimizer='adam', metrics=[f1_m])"
   ]
  },
  {
   "cell_type": "code",
   "execution_count": 391,
   "metadata": {
    "Collapsed": "false"
   },
   "outputs": [
    {
     "name": "stdout",
     "output_type": "stream",
     "text": [
      "Train on 210000 samples, validate on 90000 samples\n",
      "Epoch 1/30\n",
      "210000/210000 [==============================] - 119s 568us/step - loss: 0.9464 - acc: 0.6037 - f1_m: 0.6037 - val_loss: 0.9489 - val_acc: 0.6037 - val_f1_m: 0.6037\n",
      "Epoch 2/30\n",
      "210000/210000 [==============================] - 114s 541us/step - loss: 0.9465 - acc: 0.6037 - f1_m: 0.6036 - val_loss: 0.9452 - val_acc: 0.6037 - val_f1_m: 0.6037\n",
      "Epoch 3/30\n",
      "210000/210000 [==============================] - 110s 523us/step - loss: 0.9466 - acc: 0.6037 - f1_m: 0.6035 - val_loss: 0.9444 - val_acc: 0.6037 - val_f1_m: 0.6037\n",
      "Epoch 4/30\n",
      "210000/210000 [==============================] - 112s 533us/step - loss: 0.9470 - acc: 0.6037 - f1_m: 0.6033 - val_loss: 0.9460 - val_acc: 0.6037 - val_f1_m: 0.6037\n",
      "152419/152419 [==============================] - 23s 150us/step\n",
      "Evaluating Test Score..........\n",
      "Test Loss:0.95 \n",
      "Test Accuracy:60 %\n",
      "Test F1 Score:0.6030874819752081 \n",
      "completed.\n"
     ]
    }
   ],
   "source": [
    "run_model(model,es_round=3,batch_size=256)"
   ]
  },
  {
   "cell_type": "markdown",
   "metadata": {
    "Collapsed": "false"
   },
   "source": [
    "#### CNN:"
   ]
  },
  {
   "cell_type": "markdown",
   "metadata": {
    "Collapsed": "false"
   },
   "source": [
    "#### Model1:"
   ]
  },
  {
   "cell_type": "code",
   "execution_count": 190,
   "metadata": {
    "Collapsed": "false"
   },
   "outputs": [
    {
     "name": "stdout",
     "output_type": "stream",
     "text": [
      "_________________________________________________________________\n",
      "Layer (type)                 Output Shape              Param #   \n",
      "=================================================================\n",
      "conv1d_5 (Conv1D)            (None, 41, 1)             4         \n",
      "_________________________________________________________________\n",
      "max_pooling1d_4 (MaxPooling1 (None, 13, 1)             0         \n",
      "_________________________________________________________________\n",
      "conv1d_6 (Conv1D)            (None, 13, 128)           512       \n",
      "_________________________________________________________________\n",
      "max_pooling1d_5 (MaxPooling1 (None, 4, 128)            0         \n",
      "_________________________________________________________________\n",
      "dropout_6 (Dropout)          (None, 4, 128)            0         \n",
      "_________________________________________________________________\n",
      "batch_normalization_5 (Batch (None, 4, 128)            512       \n",
      "_________________________________________________________________\n",
      "conv1d_7 (Conv1D)            (None, 4, 128)            49280     \n",
      "_________________________________________________________________\n",
      "max_pooling1d_6 (MaxPooling1 (None, 1, 128)            0         \n",
      "_________________________________________________________________\n",
      "dropout_7 (Dropout)          (None, 1, 128)            0         \n",
      "_________________________________________________________________\n",
      "batch_normalization_6 (Batch (None, 1, 128)            512       \n",
      "_________________________________________________________________\n",
      "conv1d_8 (Conv1D)            (None, 1, 64)             24640     \n",
      "_________________________________________________________________\n",
      "flatten_2 (Flatten)          (None, 64)                0         \n",
      "_________________________________________________________________\n",
      "dense_38 (Dense)             (None, 256)               16640     \n",
      "_________________________________________________________________\n",
      "dense_39 (Dense)             (None, 3)                 771       \n",
      "=================================================================\n",
      "Total params: 92,871\n",
      "Trainable params: 92,359\n",
      "Non-trainable params: 512\n",
      "_________________________________________________________________\n"
     ]
    }
   ],
   "source": [
    "# Initiliazing the sequential model\n",
    "model = Sequential()\n",
    "# Configuring the parameters\n",
    "model.add(Conv1D(input_dimension,kernel_size=3,padding='same',activation='relu',input_shape=(timesteps, input_dimension)))\n",
    "model.add(MaxPooling1D(pool_size=3))\n",
    "model.add(Conv1D(128,3,padding='same',activation='relu'))\n",
    "model.add(MaxPooling1D(pool_size=3))\n",
    "model.add(Dropout(0.4))\n",
    "model.add(BatchNormalization())\n",
    "model.add(Conv1D(128,3,padding='same',activation='relu'))\n",
    "model.add(MaxPooling1D(pool_size=3))\n",
    "model.add(Dropout(0.3))\n",
    "model.add(BatchNormalization())\n",
    "model.add(Conv1D(64,3,padding='same',activation='relu'))\n",
    "model.add(Flatten())\n",
    "model.add(Dense(256, activation='sigmoid'))\n",
    "model.add(Dense(n_classes, activation='sigmoid'))\n",
    "model.summary()"
   ]
  },
  {
   "cell_type": "code",
   "execution_count": 194,
   "metadata": {
    "Collapsed": "false"
   },
   "outputs": [
    {
     "name": "stdout",
     "output_type": "stream",
     "text": [
      "Train on 175000 samples, validate on 75000 samples\n",
      "Epoch 1/30\n",
      "175000/175000 [==============================] - 52s 295us/step - loss: 0.7188 - acc: 0.6391 - f1_m: 0.4709 - val_loss: 0.6808 - val_acc: 0.6821 - val_f1_m: 0.6277\n",
      "Epoch 2/30\n",
      "175000/175000 [==============================] - 47s 271us/step - loss: 0.7189 - acc: 0.6521 - f1_m: 0.5414 - val_loss: 0.7199 - val_acc: 0.6037 - val_f1_m: 0.5500\n",
      "Epoch 3/30\n",
      "175000/175000 [==============================] - 50s 288us/step - loss: 0.7248 - acc: 0.6394 - f1_m: 0.6021 - val_loss: 0.7114 - val_acc: 0.6037 - val_f1_m: 0.5494\n",
      "Epoch 4/30\n",
      "175000/175000 [==============================] - 52s 296us/step - loss: 0.7240 - acc: 0.6443 - f1_m: 0.5567 - val_loss: 0.7003 - val_acc: 0.6536 - val_f1_m: 0.6173\n",
      "Epoch 5/30\n",
      "175000/175000 [==============================] - 54s 310us/step - loss: 0.7103 - acc: 0.6574 - f1_m: 0.6420 - val_loss: 0.6889 - val_acc: 0.6751 - val_f1_m: 0.6528\n",
      "Epoch 6/30\n",
      "175000/175000 [==============================] - 54s 309us/step - loss: 0.7167 - acc: 0.6564 - f1_m: 0.6449 - val_loss: 0.6768 - val_acc: 0.6767 - val_f1_m: 0.6731\n",
      "Epoch 7/30\n",
      "175000/175000 [==============================] - 55s 313us/step - loss: 0.7197 - acc: 0.6514 - f1_m: 0.6321 - val_loss: 0.6917 - val_acc: 0.6806 - val_f1_m: 0.6808\n",
      "Epoch 8/30\n",
      "175000/175000 [==============================] - 49s 278us/step - loss: 0.7089 - acc: 0.6599 - f1_m: 0.6494 - val_loss: 0.6919 - val_acc: 0.6685 - val_f1_m: 0.6458\n",
      "152419/152419 [==============================] - 14s 90us/step\n",
      "Evaluating Test Score..........\n",
      "Test Loss:0.71 \n",
      "Test Accuracy:60 %\n",
      "Test F1 Score:0.5453430186080149 \n",
      "completed.\n"
     ]
    }
   ],
   "source": [
    "run_model(model)"
   ]
  },
  {
   "cell_type": "markdown",
   "metadata": {
    "Collapsed": "false"
   },
   "source": [
    "#### Model2:"
   ]
  },
  {
   "cell_type": "code",
   "execution_count": 197,
   "metadata": {
    "Collapsed": "false"
   },
   "outputs": [
    {
     "name": "stdout",
     "output_type": "stream",
     "text": [
      "_________________________________________________________________\n",
      "Layer (type)                 Output Shape              Param #   \n",
      "=================================================================\n",
      "conv1d_11 (Conv1D)           (None, 41, 1)             4         \n",
      "_________________________________________________________________\n",
      "max_pooling1d_9 (MaxPooling1 (None, 13, 1)             0         \n",
      "_________________________________________________________________\n",
      "conv1d_12 (Conv1D)           (None, 13, 64)            256       \n",
      "_________________________________________________________________\n",
      "flatten_4 (Flatten)          (None, 832)               0         \n",
      "_________________________________________________________________\n",
      "dense_42 (Dense)             (None, 256)               213248    \n",
      "_________________________________________________________________\n",
      "dense_43 (Dense)             (None, 3)                 771       \n",
      "=================================================================\n",
      "Total params: 214,279\n",
      "Trainable params: 214,279\n",
      "Non-trainable params: 0\n",
      "_________________________________________________________________\n"
     ]
    }
   ],
   "source": [
    "model = Sequential()\n",
    "# Configuring the parameters\n",
    "model.add(Conv1D(input_dimension,kernel_size=3,padding='same',activation='relu',input_shape=(timesteps, input_dimension)))\n",
    "model.add(MaxPooling1D(pool_size=3))\n",
    "model.add(Conv1D(64,3,padding='same',activation='relu'))\n",
    "model.add(Flatten())\n",
    "model.add(Dense(256, activation='sigmoid'))\n",
    "model.add(Dense(n_classes, activation='softmax'))\n",
    "model.summary()"
   ]
  },
  {
   "cell_type": "code",
   "execution_count": 198,
   "metadata": {
    "Collapsed": "false"
   },
   "outputs": [
    {
     "name": "stdout",
     "output_type": "stream",
     "text": [
      "Train on 175000 samples, validate on 75000 samples\n",
      "Epoch 1/30\n",
      "175000/175000 [==============================] - 33s 188us/step - loss: 0.9503 - acc: 0.6035 - f1_m: 0.6000 - val_loss: 0.9719 - val_acc: 0.6037 - val_f1_m: 0.6037\n",
      "Epoch 2/30\n",
      "175000/175000 [==============================] - 32s 182us/step - loss: 0.9498 - acc: 0.6037 - f1_m: 0.6006 - val_loss: 0.9447 - val_acc: 0.6037 - val_f1_m: 0.6037\n",
      "Epoch 3/30\n",
      "175000/175000 [==============================] - 32s 185us/step - loss: 0.9498 - acc: 0.6037 - f1_m: 0.5980 - val_loss: 0.9518 - val_acc: 0.6037 - val_f1_m: 0.6037\n",
      "Epoch 4/30\n",
      "175000/175000 [==============================] - 33s 188us/step - loss: 0.9499 - acc: 0.6037 - f1_m: 0.5987 - val_loss: 0.9499 - val_acc: 0.6037 - val_f1_m: 0.6037\n",
      "Epoch 5/30\n",
      "175000/175000 [==============================] - 34s 195us/step - loss: 0.9497 - acc: 0.6037 - f1_m: 0.5988 - val_loss: 0.9510 - val_acc: 0.6037 - val_f1_m: 0.6037\n",
      "Epoch 6/30\n",
      "175000/175000 [==============================] - 32s 183us/step - loss: 0.9497 - acc: 0.6037 - f1_m: 0.6001 - val_loss: 0.9559 - val_acc: 0.6037 - val_f1_m: 0.6037\n",
      "152419/152419 [==============================] - 20s 133us/step\n",
      "Evaluating Test Score..........\n",
      "Test Loss:0.97 \n",
      "Test Accuracy:60 %\n",
      "Test F1 Score:0.6030874819752081 \n",
      "completed.\n"
     ]
    }
   ],
   "source": [
    "run_model(model)"
   ]
  },
  {
   "cell_type": "markdown",
   "metadata": {
    "Collapsed": "false"
   },
   "source": [
    "# Comparison:"
   ]
  },
  {
   "cell_type": "code",
   "execution_count": 392,
   "metadata": {
    "Collapsed": "false"
   },
   "outputs": [
    {
     "name": "stdout",
     "output_type": "stream",
     "text": [
      "+-------+----------------------------+------------------------+\n",
      "| model |            Type            | Micro average f1 score |\n",
      "+-------+----------------------------+------------------------+\n",
      "|   1   |           random           |          0.33          |\n",
      "|   2   |    logistic regression     |          0.69          |\n",
      "|   3   |         linear SVM         |          0.68          |\n",
      "|   4   |       Random Forest        |          0.65          |\n",
      "|   5   |         Light GBM          |          0.78          |\n",
      "|   6   | Majority Voting-LR,RF,LGBM |          0.74          |\n",
      "|   7   |            LSTM            |          0.71          |\n",
      "|   8   |            CNN             |          0.60          |\n",
      "+-------+----------------------------+------------------------+\n"
     ]
    }
   ],
   "source": [
    "from prettytable import PrettyTable\n",
    "x = PrettyTable()\n",
    "x.field_names=['model','Type','Micro average f1 score']\n",
    "x.add_row(['1','random','0.33'])\n",
    "x.add_row(['2','logistic regression','0.69'])\n",
    "x.add_row(['3','linear SVM','0.68'])\n",
    "x.add_row(['4','Random Forest','0.65'])\n",
    "x.add_row(['5','Light GBM','0.78'])\n",
    "x.add_row(['6','Majority Voting-LR,RF,LGBM','0.74'])\n",
    "x.add_row(['7','LSTM','0.71'])\n",
    "x.add_row(['8','CNN','0.60'])\n",
    "print(x)"
   ]
  }
 ],
 "metadata": {
  "kernelspec": {
   "display_name": "Python 3",
   "language": "python",
   "name": "python3"
  },
  "language_info": {
   "codemirror_mode": {
    "name": "ipython",
    "version": 3
   },
   "file_extension": ".py",
   "mimetype": "text/x-python",
   "name": "python",
   "nbconvert_exporter": "python",
   "pygments_lexer": "ipython3",
   "version": "3.7.4"
  }
 },
 "nbformat": 4,
 "nbformat_minor": 4
}
