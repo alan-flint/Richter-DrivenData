{
 "cells": [
  {
   "cell_type": "markdown",
   "metadata": {},
   "source": [
    "## Imports"
   ]
  },
  {
   "cell_type": "code",
   "execution_count": 2,
   "metadata": {},
   "outputs": [],
   "source": [
    "import pandas as pd\n",
    "import numpy as np\n",
    "\n",
    "from collections import Counter\n",
    "import seaborn as sns\n",
    "import scipy\n",
    "from sys import getsizeof"
   ]
  },
  {
   "cell_type": "code",
   "execution_count": 61,
   "metadata": {},
   "outputs": [],
   "source": [
    "from sklearn.model_selection import cross_val_score\n",
    "from sklearn.metrics import make_scorer,f1_score\n",
    "from sklearn.pipeline import Pipeline\n",
    "from sklearn.preprocessing import StandardScaler\n",
    "from sklearn.linear_model import LogisticRegression\n",
    "from sklearn.tree import DecisionTreeClassifier\n",
    "from sklearn.neighbors import KNeighborsClassifier\n",
    "from sklearn.ensemble import RandomForestClassifier\n",
    "from sklearn.preprocessing import LabelEncoder\n",
    "from sklearn.metrics import f1_score\n",
    "from sklearn.model_selection import train_test_split\n",
    "from sklearn.model_selection import RandomizedSearchCV\n",
    "\n",
    "from rfpimp import *"
   ]
  },
  {
   "cell_type": "code",
   "execution_count": 4,
   "metadata": {},
   "outputs": [],
   "source": [
    "# north star metric is micro f1_score per the competition\n",
    "scorer = make_scorer(f1_score, needs_proba=False, \n",
    "                     greater_is_better=True,average='micro')"
   ]
  },
  {
   "cell_type": "markdown",
   "metadata": {},
   "source": [
    "## Functions and Class creations"
   ]
  },
  {
   "cell_type": "code",
   "execution_count": 5,
   "metadata": {},
   "outputs": [],
   "source": [
    "def give_sub_file(preds, ids, path='../output/preds.csv'):\n",
    "    '''Input the predictions with ids. Output the csv submission file'''\n",
    "    preds = pd.DataFrame(preds,columns=['damage_grade'])\n",
    "    preds['building_id'] = ids\n",
    "    preds = preds[['building_id', 'damage_grade']]\n",
    "    print(preds.columns)\n",
    "    print(preds.shape)\n",
    "    preds.to_csv(path, index=False)\n"
   ]
  },
  {
   "cell_type": "markdown",
   "metadata": {},
   "source": [
    "Data processing functions\n",
    "---"
   ]
  },
  {
   "cell_type": "code",
   "execution_count": 6,
   "metadata": {},
   "outputs": [],
   "source": [
    "def create_X(df):\n",
    "    '''Get data into tidy form'''\n",
    "    X = df.copy()\n",
    "    cat_cols = X.columns[X.dtypes == 'object']\n",
    "    num_cols = [i for i in X.columns if i not in cat_cols]\n",
    "    \n",
    "    x1 = X[cat_cols].apply(LabelEncoder().fit_transform)\n",
    "    X = pd.concat([X[num_cols], x1], axis=1)\n",
    "    \n",
    "    return X\n",
    "\n",
    "def _new_ids(l1, l2):\n",
    "    '''\n",
    "    l1 and l2 are np.arrays\n",
    "    l1 = train array\n",
    "    l2 = test array\n",
    "    '''\n",
    "    \n",
    "    if not isinstance(l1, np.ndarray):\n",
    "        l1 = np.array(l1)\n",
    "    if not isinstance(l2, np.ndarray):\n",
    "        l2 = np.array(l2)\n",
    "    \n",
    "    mode = scipy.stats.mode(l1)[0][0]  # mode value of train\n",
    "    \n",
    "    bool_arr = np.array([i in l1 for i in l2])\n",
    "    out = l2.copy()\n",
    "    out[~bool_arr] = mode\n",
    "    \n",
    "    \n",
    "    return out\n",
    "\n",
    "def replace_new_ids(train_df, test_df, cols):\n",
    "    '''\n",
    "    train_df = train_df\n",
    "    test_df = test_df\n",
    "    cols = list of columns which have new ids not in train_df\n",
    "    \n",
    "    This function will replace any new values in the cols of \n",
    "    test_df with the mode of trains_df\n",
    "    '''\n",
    "    for column in cols:\n",
    "        test_df.loc[:,column] = _new_ids(train_df.loc[:,column], test_df.loc[:,column])\n",
    "    return train_df, test_df\n",
    "    \n",
    "    \n",
    "def geo23_in_geo1(X_train, X_test):\n",
    "    ''' Requirement: No new geo_level_2 ids in X_test'''\n",
    "    \n",
    "    dic_1_2 = dict(X_train.groupby('geo_level_1_id', as_index=False)['geo_level_2_id'].nunique())\n",
    "    dic_1_3 = dict(X_train.groupby('geo_level_1_id', as_index=False)['geo_level_3_id'].nunique())\n",
    "    \n",
    "    for frame in [X_train, X_test]:\n",
    "        frame['count12'] = frame.loc[:, 'geo_level_1_id'].apply(lambda x: dic_1_2[x])\n",
    "        frame['count13'] = frame.loc[:, 'geo_level_1_id'].apply(lambda x: dic_1_3[x])\n",
    "    \n",
    "    return X_train, X_test\n",
    "    \n",
    "\n",
    "def new_rows(l1, l2):\n",
    "    '''check how columns compare and how many values differ'''\n",
    "    s = set(l2) - set(l1)\n",
    "    return len([i for i in l2 if i in s])"
   ]
  },
  {
   "cell_type": "markdown",
   "metadata": {},
   "source": [
    "## Frequency encoding Class"
   ]
  },
  {
   "cell_type": "code",
   "execution_count": 7,
   "metadata": {},
   "outputs": [],
   "source": [
    "class FreqEncode:\n",
    "    def __init__(self):\n",
    "        self.freq_dict = {}\n",
    "    \n",
    "    def create_dict(self,train_col):\n",
    "        return dict(train_col.value_counts())\n",
    "    \n",
    "    def fit(self, X_train, cols):\n",
    "        '''\n",
    "        X_train = train_df\n",
    "        cols for which we need to encode frequency\n",
    "        '''\n",
    "        self.cols = cols\n",
    "        for i in cols:\n",
    "            value = self.create_dict(X_train[i])\n",
    "            self.freq_dict[i] = value\n",
    "    \n",
    "    def transform(self, X_test):\n",
    "        '''this appends freq encoding columns to X_test inplace'''\n",
    "        for i in self.cols:\n",
    "            X_test[i.strip()+'_fq'] = X_test[i].apply(lambda x: self.freq_dict[i][x])\n",
    "        return X_test\n",
    "    "
   ]
  },
  {
   "cell_type": "markdown",
   "metadata": {
    "Collapsed": "false"
   },
   "source": [
    "## Data Import"
   ]
  },
  {
   "cell_type": "code",
   "execution_count": 8,
   "metadata": {},
   "outputs": [],
   "source": [
    "df = pd.read_csv('../input/train_values.csv')\n",
    "X = create_X(df)\n",
    "train_target = pd.read_csv('../input/train_labels.csv')\n",
    "y = train_target.damage_grade"
   ]
  },
  {
   "cell_type": "code",
   "execution_count": 9,
   "metadata": {},
   "outputs": [
    {
     "data": {
      "text/html": [
       "<div>\n",
       "<style scoped>\n",
       "    .dataframe tbody tr th:only-of-type {\n",
       "        vertical-align: middle;\n",
       "    }\n",
       "\n",
       "    .dataframe tbody tr th {\n",
       "        vertical-align: top;\n",
       "    }\n",
       "\n",
       "    .dataframe thead th {\n",
       "        text-align: right;\n",
       "    }\n",
       "</style>\n",
       "<table border=\"1\" class=\"dataframe\">\n",
       "  <thead>\n",
       "    <tr style=\"text-align: right;\">\n",
       "      <th></th>\n",
       "      <th>building_id</th>\n",
       "      <th>geo_level_1_id</th>\n",
       "      <th>geo_level_2_id</th>\n",
       "      <th>geo_level_3_id</th>\n",
       "      <th>count_floors_pre_eq</th>\n",
       "      <th>age</th>\n",
       "      <th>area_percentage</th>\n",
       "      <th>height_percentage</th>\n",
       "      <th>has_superstructure_adobe_mud</th>\n",
       "      <th>has_superstructure_mud_mortar_stone</th>\n",
       "      <th>...</th>\n",
       "      <th>has_secondary_use_use_police</th>\n",
       "      <th>has_secondary_use_other</th>\n",
       "      <th>land_surface_condition</th>\n",
       "      <th>foundation_type</th>\n",
       "      <th>roof_type</th>\n",
       "      <th>ground_floor_type</th>\n",
       "      <th>other_floor_type</th>\n",
       "      <th>position</th>\n",
       "      <th>plan_configuration</th>\n",
       "      <th>legal_ownership_status</th>\n",
       "    </tr>\n",
       "  </thead>\n",
       "  <tbody>\n",
       "    <tr>\n",
       "      <td>0</td>\n",
       "      <td>802906</td>\n",
       "      <td>6</td>\n",
       "      <td>487</td>\n",
       "      <td>12198</td>\n",
       "      <td>2</td>\n",
       "      <td>30</td>\n",
       "      <td>6</td>\n",
       "      <td>5</td>\n",
       "      <td>1</td>\n",
       "      <td>1</td>\n",
       "      <td>...</td>\n",
       "      <td>0</td>\n",
       "      <td>0</td>\n",
       "      <td>2</td>\n",
       "      <td>2</td>\n",
       "      <td>0</td>\n",
       "      <td>0</td>\n",
       "      <td>1</td>\n",
       "      <td>3</td>\n",
       "      <td>2</td>\n",
       "      <td>2</td>\n",
       "    </tr>\n",
       "    <tr>\n",
       "      <td>1</td>\n",
       "      <td>28830</td>\n",
       "      <td>8</td>\n",
       "      <td>900</td>\n",
       "      <td>2812</td>\n",
       "      <td>2</td>\n",
       "      <td>10</td>\n",
       "      <td>8</td>\n",
       "      <td>7</td>\n",
       "      <td>0</td>\n",
       "      <td>1</td>\n",
       "      <td>...</td>\n",
       "      <td>0</td>\n",
       "      <td>0</td>\n",
       "      <td>1</td>\n",
       "      <td>2</td>\n",
       "      <td>0</td>\n",
       "      <td>3</td>\n",
       "      <td>1</td>\n",
       "      <td>2</td>\n",
       "      <td>2</td>\n",
       "      <td>2</td>\n",
       "    </tr>\n",
       "    <tr>\n",
       "      <td>2</td>\n",
       "      <td>94947</td>\n",
       "      <td>21</td>\n",
       "      <td>363</td>\n",
       "      <td>8973</td>\n",
       "      <td>2</td>\n",
       "      <td>10</td>\n",
       "      <td>5</td>\n",
       "      <td>5</td>\n",
       "      <td>0</td>\n",
       "      <td>1</td>\n",
       "      <td>...</td>\n",
       "      <td>0</td>\n",
       "      <td>0</td>\n",
       "      <td>2</td>\n",
       "      <td>2</td>\n",
       "      <td>0</td>\n",
       "      <td>0</td>\n",
       "      <td>3</td>\n",
       "      <td>3</td>\n",
       "      <td>2</td>\n",
       "      <td>2</td>\n",
       "    </tr>\n",
       "    <tr>\n",
       "      <td>3</td>\n",
       "      <td>590882</td>\n",
       "      <td>22</td>\n",
       "      <td>418</td>\n",
       "      <td>10694</td>\n",
       "      <td>2</td>\n",
       "      <td>10</td>\n",
       "      <td>6</td>\n",
       "      <td>5</td>\n",
       "      <td>0</td>\n",
       "      <td>1</td>\n",
       "      <td>...</td>\n",
       "      <td>0</td>\n",
       "      <td>0</td>\n",
       "      <td>2</td>\n",
       "      <td>2</td>\n",
       "      <td>0</td>\n",
       "      <td>0</td>\n",
       "      <td>3</td>\n",
       "      <td>2</td>\n",
       "      <td>2</td>\n",
       "      <td>2</td>\n",
       "    </tr>\n",
       "    <tr>\n",
       "      <td>4</td>\n",
       "      <td>201944</td>\n",
       "      <td>11</td>\n",
       "      <td>131</td>\n",
       "      <td>1488</td>\n",
       "      <td>3</td>\n",
       "      <td>30</td>\n",
       "      <td>8</td>\n",
       "      <td>9</td>\n",
       "      <td>1</td>\n",
       "      <td>0</td>\n",
       "      <td>...</td>\n",
       "      <td>0</td>\n",
       "      <td>0</td>\n",
       "      <td>2</td>\n",
       "      <td>2</td>\n",
       "      <td>0</td>\n",
       "      <td>0</td>\n",
       "      <td>3</td>\n",
       "      <td>2</td>\n",
       "      <td>2</td>\n",
       "      <td>2</td>\n",
       "    </tr>\n",
       "  </tbody>\n",
       "</table>\n",
       "<p>5 rows × 39 columns</p>\n",
       "</div>"
      ],
      "text/plain": [
       "   building_id  geo_level_1_id  geo_level_2_id  geo_level_3_id  \\\n",
       "0       802906               6             487           12198   \n",
       "1        28830               8             900            2812   \n",
       "2        94947              21             363            8973   \n",
       "3       590882              22             418           10694   \n",
       "4       201944              11             131            1488   \n",
       "\n",
       "   count_floors_pre_eq  age  area_percentage  height_percentage  \\\n",
       "0                    2   30                6                  5   \n",
       "1                    2   10                8                  7   \n",
       "2                    2   10                5                  5   \n",
       "3                    2   10                6                  5   \n",
       "4                    3   30                8                  9   \n",
       "\n",
       "   has_superstructure_adobe_mud  has_superstructure_mud_mortar_stone  ...  \\\n",
       "0                             1                                    1  ...   \n",
       "1                             0                                    1  ...   \n",
       "2                             0                                    1  ...   \n",
       "3                             0                                    1  ...   \n",
       "4                             1                                    0  ...   \n",
       "\n",
       "   has_secondary_use_use_police  has_secondary_use_other  \\\n",
       "0                             0                        0   \n",
       "1                             0                        0   \n",
       "2                             0                        0   \n",
       "3                             0                        0   \n",
       "4                             0                        0   \n",
       "\n",
       "   land_surface_condition  foundation_type  roof_type  ground_floor_type  \\\n",
       "0                       2                2          0                  0   \n",
       "1                       1                2          0                  3   \n",
       "2                       2                2          0                  0   \n",
       "3                       2                2          0                  0   \n",
       "4                       2                2          0                  0   \n",
       "\n",
       "   other_floor_type  position  plan_configuration  legal_ownership_status  \n",
       "0                 1         3                   2                       2  \n",
       "1                 1         2                   2                       2  \n",
       "2                 3         3                   2                       2  \n",
       "3                 3         2                   2                       2  \n",
       "4                 3         2                   2                       2  \n",
       "\n",
       "[5 rows x 39 columns]"
      ]
     },
     "execution_count": 9,
     "metadata": {},
     "output_type": "execute_result"
    }
   ],
   "source": [
    "X.head()"
   ]
  },
  {
   "cell_type": "markdown",
   "metadata": {},
   "source": [
    "## Model Building"
   ]
  },
  {
   "cell_type": "code",
   "execution_count": 10,
   "metadata": {},
   "outputs": [
    {
     "data": {
      "text/plain": [
       "Counter({3: 87218, 2: 148259, 1: 25124})"
      ]
     },
     "execution_count": 10,
     "metadata": {},
     "output_type": "execute_result"
    }
   ],
   "source": [
    "Counter(train_target.damage_grade)"
   ]
  },
  {
   "cell_type": "markdown",
   "metadata": {},
   "source": [
    "Baseline model using Mode of 2\n",
    "---"
   ]
  },
  {
   "cell_type": "code",
   "execution_count": 11,
   "metadata": {},
   "outputs": [],
   "source": [
    "y_true =  train_target.damage_grade\n",
    "y_pred = [2]*len(y_true)"
   ]
  },
  {
   "cell_type": "code",
   "execution_count": 12,
   "metadata": {
    "scrolled": true
   },
   "outputs": [
    {
     "data": {
      "text/plain": [
       "0.5689118614280068"
      ]
     },
     "execution_count": 12,
     "metadata": {},
     "output_type": "execute_result"
    }
   ],
   "source": [
    "f1_score(y_true, y_pred, average='micro')"
   ]
  },
  {
   "cell_type": "markdown",
   "metadata": {},
   "source": [
    "Pipeline\n",
    "---"
   ]
  },
  {
   "cell_type": "code",
   "execution_count": 13,
   "metadata": {},
   "outputs": [],
   "source": [
    "logr_pipe = Pipeline([('scl', StandardScaler()), \n",
    "                      ('log', LogisticRegression(solver='saga', n_jobs=-1))])\n",
    "knn_pipe = Pipeline([('scl', StandardScaler()),          # Transformer: Standardize\n",
    "                     ('knn', KNeighborsClassifier(n_neighbors=3, n_jobs=-1))])\n",
    "rf_pipe = Pipeline([('clf', RandomForestClassifier(n_jobs=-1))])\n",
    "dt_pipe = Pipeline([('dtree', DecisionTreeClassifier())])"
   ]
  },
  {
   "cell_type": "code",
   "execution_count": 14,
   "metadata": {},
   "outputs": [],
   "source": [
    "pipelines = [logr_pipe, knn_pipe, rf_pipe, dt_pipe]"
   ]
  },
  {
   "cell_type": "code",
   "execution_count": 15,
   "metadata": {},
   "outputs": [],
   "source": [
    "X_train, X_test, y_train, y_test = train_test_split(X, y, test_size=0.2)"
   ]
  },
  {
   "cell_type": "code",
   "execution_count": 16,
   "metadata": {},
   "outputs": [
    {
     "name": "stderr",
     "output_type": "stream",
     "text": [
      "/Users/alanflint/anaconda3/envs/ml/lib/python3.7/site-packages/sklearn/linear_model/logistic.py:469: FutureWarning: Default multi_class will be changed to 'auto' in 0.22. Specify the multi_class option to silence this warning.\n",
      "  \"this warning.\", FutureWarning)\n",
      "/Users/alanflint/anaconda3/envs/ml/lib/python3.7/site-packages/sklearn/linear_model/sag.py:337: ConvergenceWarning: The max_iter was reached which means the coef_ did not converge\n",
      "  \"the coef_ did not converge\", ConvergenceWarning)\n",
      "/Users/alanflint/anaconda3/envs/ml/lib/python3.7/site-packages/sklearn/ensemble/forest.py:245: FutureWarning: The default value of n_estimators will change from 10 in version 0.20 to 100 in 0.22.\n",
      "  \"10 in version 0.20 to 100 in 0.22.\", FutureWarning)\n"
     ]
    },
    {
     "name": "stdout",
     "output_type": "stream",
     "text": [
      "LogisticRegression    : 58.10%\n",
      "KNeighborsClassifier  : 61.22%\n",
      "RandomForestClassifier: 69.87%\n",
      "DecisionTreeClassifier: 64.38%\n"
     ]
    }
   ],
   "source": [
    "for pipe in pipelines:\n",
    "    pipe.fit(X_train, y_train) # One-liners fits all models \n",
    "# Compare accuracies\n",
    "for pipe in pipelines:\n",
    "    name = pipe.steps[-1][1].__class__.__name__.split('.')[-1] # Fluent like a boss\n",
    "    print(f\"{name:<22}: {pipe.score(X_test, y_test):.2%}\")"
   ]
  },
  {
   "cell_type": "markdown",
   "metadata": {},
   "source": [
    "We will go with RF Classifier\n",
    "---"
   ]
  },
  {
   "cell_type": "code",
   "execution_count": 22,
   "metadata": {},
   "outputs": [],
   "source": [
    "model = RandomForestClassifier(n_estimators=150, min_samples_leaf=3, n_jobs=-1, oob_score=True)"
   ]
  },
  {
   "cell_type": "code",
   "execution_count": 23,
   "metadata": {},
   "outputs": [
    {
     "data": {
      "text/plain": [
       "RandomForestClassifier(bootstrap=True, class_weight=None, criterion='gini',\n",
       "                       max_depth=None, max_features='auto', max_leaf_nodes=None,\n",
       "                       min_impurity_decrease=0.0, min_impurity_split=None,\n",
       "                       min_samples_leaf=3, min_samples_split=2,\n",
       "                       min_weight_fraction_leaf=0.0, n_estimators=150,\n",
       "                       n_jobs=-1, oob_score=True, random_state=None, verbose=0,\n",
       "                       warm_start=False)"
      ]
     },
     "execution_count": 23,
     "metadata": {},
     "output_type": "execute_result"
    }
   ],
   "source": [
    "model.fit(X_train, y_train)  "
   ]
  },
  {
   "cell_type": "code",
   "execution_count": 24,
   "metadata": {},
   "outputs": [
    {
     "data": {
      "text/plain": [
       "0.7212010744435917"
      ]
     },
     "execution_count": 24,
     "metadata": {},
     "output_type": "execute_result"
    }
   ],
   "source": [
    "model.oob_score_"
   ]
  },
  {
   "cell_type": "code",
   "execution_count": 25,
   "metadata": {},
   "outputs": [
    {
     "data": {
      "image/png": "[encoded data removed]",
      "text/plain": [
       "<Figure size 288x619.2 with 1 Axes>"
      ]
     },
     "metadata": {
      "needs_background": "light"
     },
     "output_type": "display_data"
    }
   ],
   "source": [
    "imp = importances(model, X_train, y_train) # permutation\n",
    "viz = plot_importances(imp)"
   ]
  },
  {
   "cell_type": "code",
   "execution_count": 26,
   "metadata": {},
   "outputs": [
    {
     "data": {
      "text/plain": [
       "array([0.69035971, 0.69584988, 0.69469867])"
      ]
     },
     "execution_count": 26,
     "metadata": {},
     "output_type": "execute_result"
    }
   ],
   "source": [
    "cross_val_score(estimator=model,X = X_test, y=y_test, scoring=scorer, cv=3,n_jobs=-1)"
   ]
  },
  {
   "cell_type": "markdown",
   "metadata": {},
   "source": [
    "## Geo level ID is very important, lets try some feature engineering with it"
   ]
  },
  {
   "cell_type": "code",
   "execution_count": 27,
   "metadata": {},
   "outputs": [],
   "source": [
    "X, _ = geo23_in_geo1(X,X)\n",
    "geo_features = ['geo_level_1_id', 'geo_level_2_id', 'geo_level_3_id']\n",
    "X, _ = replace_new_ids(X, X, geo_features)\n",
    "fe = FreqEncode()\n",
    "fe.fit(X,geo_features)\n",
    "X = fe.transform(X)"
   ]
  },
  {
   "cell_type": "code",
   "execution_count": 44,
   "metadata": {},
   "outputs": [],
   "source": [
    "#get new train and test set\n",
    "X_train, X_test, y_train, y_test = train_test_split(X, y, test_size=0.2)"
   ]
  },
  {
   "cell_type": "code",
   "execution_count": 45,
   "metadata": {
    "scrolled": false
   },
   "outputs": [
    {
     "name": "stdout",
     "output_type": "stream",
     "text": [
      "0.7416634689178818\n"
     ]
    },
    {
     "data": {
      "image/png": "[encoded data removed]",
      "text/plain": [
       "<Figure size 288x698.4 with 1 Axes>"
      ]
     },
     "metadata": {
      "needs_background": "light"
     },
     "output_type": "display_data"
    }
   ],
   "source": [
    "model2 = RandomForestClassifier(n_estimators=150, min_samples_leaf=3, oob_score=True, n_jobs=-1)\n",
    "model2.fit(X_train, y_train)\n",
    "print(model2.oob_score_)\n",
    "imp = importances(model2, X_train, y_train) # permutation\n",
    "viz = plot_importances(imp)"
   ]
  },
  {
   "cell_type": "markdown",
   "metadata": {},
   "source": [
    "##### Take top 20 features, refit"
   ]
  },
  {
   "cell_type": "code",
   "execution_count": 54,
   "metadata": {},
   "outputs": [],
   "source": [
    "top20 = imp.iloc[:20].index.tolist()\n",
    "top20.remove('building_id')"
   ]
  },
  {
   "cell_type": "code",
   "execution_count": 56,
   "metadata": {},
   "outputs": [
    {
     "data": {
      "text/plain": [
       "RandomForestClassifier(bootstrap=True, class_weight=None, criterion='gini',\n",
       "                       max_depth=None, max_features='auto', max_leaf_nodes=None,\n",
       "                       min_impurity_decrease=0.0, min_impurity_split=None,\n",
       "                       min_samples_leaf=3, min_samples_split=2,\n",
       "                       min_weight_fraction_leaf=0.0, n_estimators=150,\n",
       "                       n_jobs=-1, oob_score=True, random_state=None, verbose=0,\n",
       "                       warm_start=False)"
      ]
     },
     "execution_count": 56,
     "metadata": {},
     "output_type": "execute_result"
    }
   ],
   "source": [
    "model2.fit(X_train[top20], y_train)"
   ]
  },
  {
   "cell_type": "code",
   "execution_count": 57,
   "metadata": {},
   "outputs": [
    {
     "data": {
      "text/plain": [
       "array([0.7383659 , 0.73797361, 0.73935504])"
      ]
     },
     "execution_count": 57,
     "metadata": {},
     "output_type": "execute_result"
    }
   ],
   "source": [
    "cross_val_score(estimator=model2, X=X_train[top20], y=y_train, scoring=scorer, cv=3, n_jobs=-1)"
   ]
  },
  {
   "cell_type": "code",
   "execution_count": 58,
   "metadata": {},
   "outputs": [
    {
     "data": {
      "text/plain": [
       "0.7418841135840368"
      ]
     },
     "execution_count": 58,
     "metadata": {},
     "output_type": "execute_result"
    }
   ],
   "source": [
    "model2.oob_score_"
   ]
  },
  {
   "cell_type": "markdown",
   "metadata": {},
   "source": [
    "Big improvement on rf results using geo id freq encoding. Now tune hyperparameters\n",
    "---"
   ]
  },
  {
   "cell_type": "code",
   "execution_count": 62,
   "metadata": {},
   "outputs": [],
   "source": [
    "rf = RandomForestClassifier()\n",
    "params = {'n_estimators': [20, 50, 100, 150, 200],\n",
    "         'criterion': ['gini', 'entropy'],\n",
    "         'min_samples_leaf': [3, 5, 10, 25, 100],\n",
    "         'max_features': ['sqrt', 'log2', 8]}\n",
    "n_iter = 7"
   ]
  },
  {
   "cell_type": "code",
   "execution_count": 65,
   "metadata": {},
   "outputs": [],
   "source": [
    "rand_rf = RandomizedSearchCV(rf, param_distributions=params, scoring='f1_micro', n_iter=n_iter, cv=3, \n",
    "                             n_jobs=-1)"
   ]
  },
  {
   "cell_type": "code",
   "execution_count": 66,
   "metadata": {},
   "outputs": [
    {
     "data": {
      "text/plain": [
       "RandomizedSearchCV(cv=3, error_score='raise-deprecating',\n",
       "                   estimator=RandomForestClassifier(bootstrap=True,\n",
       "                                                    class_weight=None,\n",
       "                                                    criterion='gini',\n",
       "                                                    max_depth=None,\n",
       "                                                    max_features='auto',\n",
       "                                                    max_leaf_nodes=None,\n",
       "                                                    min_impurity_decrease=0.0,\n",
       "                                                    min_impurity_split=None,\n",
       "                                                    min_samples_leaf=1,\n",
       "                                                    min_samples_split=2,\n",
       "                                                    min_weight_fraction_leaf=0.0,\n",
       "                                                    n_estimators='warn',\n",
       "                                                    n_jobs=None,\n",
       "                                                    oob_score=False,\n",
       "                                                    random_state=None,\n",
       "                                                    verbose=0,\n",
       "                                                    warm_start=False),\n",
       "                   iid='warn', n_iter=7, n_jobs=-1,\n",
       "                   param_distributions={'criterion': ['gini', 'entropy'],\n",
       "                                        'max_features': ['sqrt', 'log2', 8],\n",
       "                                        'min_samples_leaf': [3, 5, 10, 25, 100],\n",
       "                                        'n_estimators': [20, 50, 100, 150,\n",
       "                                                         200]},\n",
       "                   pre_dispatch='2*n_jobs', random_state=None, refit=True,\n",
       "                   return_train_score=False, scoring='f1_micro', verbose=0)"
      ]
     },
     "execution_count": 66,
     "metadata": {},
     "output_type": "execute_result"
    }
   ],
   "source": [
    "rand_rf.fit(X_train[top20], y_train)"
   ]
  },
  {
   "cell_type": "code",
   "execution_count": 70,
   "metadata": {},
   "outputs": [
    {
     "data": {
      "text/html": [
       "<div>\n",
       "<style scoped>\n",
       "    .dataframe tbody tr th:only-of-type {\n",
       "        vertical-align: middle;\n",
       "    }\n",
       "\n",
       "    .dataframe tbody tr th {\n",
       "        vertical-align: top;\n",
       "    }\n",
       "\n",
       "    .dataframe thead th {\n",
       "        text-align: right;\n",
       "    }\n",
       "</style>\n",
       "<table border=\"1\" class=\"dataframe\">\n",
       "  <thead>\n",
       "    <tr style=\"text-align: right;\">\n",
       "      <th></th>\n",
       "      <th>0</th>\n",
       "      <th>1</th>\n",
       "      <th>2</th>\n",
       "      <th>3</th>\n",
       "      <th>4</th>\n",
       "      <th>5</th>\n",
       "      <th>6</th>\n",
       "    </tr>\n",
       "  </thead>\n",
       "  <tbody>\n",
       "    <tr>\n",
       "      <td>param_n_estimators</td>\n",
       "      <td>20</td>\n",
       "      <td>20</td>\n",
       "      <td>50</td>\n",
       "      <td>100</td>\n",
       "      <td>150</td>\n",
       "      <td>50</td>\n",
       "      <td>200</td>\n",
       "    </tr>\n",
       "    <tr>\n",
       "      <td>param_min_samples_leaf</td>\n",
       "      <td>100</td>\n",
       "      <td>25</td>\n",
       "      <td>10</td>\n",
       "      <td>100</td>\n",
       "      <td>5</td>\n",
       "      <td>10</td>\n",
       "      <td>10</td>\n",
       "    </tr>\n",
       "    <tr>\n",
       "      <td>param_max_features</td>\n",
       "      <td>sqrt</td>\n",
       "      <td>8</td>\n",
       "      <td>log2</td>\n",
       "      <td>sqrt</td>\n",
       "      <td>8</td>\n",
       "      <td>8</td>\n",
       "      <td>8</td>\n",
       "    </tr>\n",
       "    <tr>\n",
       "      <td>param_criterion</td>\n",
       "      <td>entropy</td>\n",
       "      <td>gini</td>\n",
       "      <td>gini</td>\n",
       "      <td>gini</td>\n",
       "      <td>gini</td>\n",
       "      <td>gini</td>\n",
       "      <td>entropy</td>\n",
       "    </tr>\n",
       "    <tr>\n",
       "      <td>split0_test_score</td>\n",
       "      <td>0.699787</td>\n",
       "      <td>0.72979</td>\n",
       "      <td>0.734063</td>\n",
       "      <td>0.705644</td>\n",
       "      <td>0.740625</td>\n",
       "      <td>0.73933</td>\n",
       "      <td>0.739416</td>\n",
       "    </tr>\n",
       "    <tr>\n",
       "      <td>split1_test_score</td>\n",
       "      <td>0.700157</td>\n",
       "      <td>0.729052</td>\n",
       "      <td>0.731369</td>\n",
       "      <td>0.705049</td>\n",
       "      <td>0.739413</td>\n",
       "      <td>0.737599</td>\n",
       "      <td>0.737513</td>\n",
       "    </tr>\n",
       "    <tr>\n",
       "      <td>split2_test_score</td>\n",
       "      <td>0.700977</td>\n",
       "      <td>0.728951</td>\n",
       "      <td>0.731757</td>\n",
       "      <td>0.706762</td>\n",
       "      <td>0.739931</td>\n",
       "      <td>0.738535</td>\n",
       "      <td>0.737528</td>\n",
       "    </tr>\n",
       "    <tr>\n",
       "      <td>mean_test_score</td>\n",
       "      <td>0.700307</td>\n",
       "      <td>0.729264</td>\n",
       "      <td>0.732396</td>\n",
       "      <td>0.705818</td>\n",
       "      <td>0.739989</td>\n",
       "      <td>0.738488</td>\n",
       "      <td>0.738152</td>\n",
       "    </tr>\n",
       "    <tr>\n",
       "      <td>std_test_score</td>\n",
       "      <td>0.000497298</td>\n",
       "      <td>0.000373802</td>\n",
       "      <td>0.00118937</td>\n",
       "      <td>0.000709908</td>\n",
       "      <td>0.00049674</td>\n",
       "      <td>0.000707264</td>\n",
       "      <td>0.000893817</td>\n",
       "    </tr>\n",
       "    <tr>\n",
       "      <td>rank_test_score</td>\n",
       "      <td>7</td>\n",
       "      <td>5</td>\n",
       "      <td>4</td>\n",
       "      <td>6</td>\n",
       "      <td>1</td>\n",
       "      <td>2</td>\n",
       "      <td>3</td>\n",
       "    </tr>\n",
       "  </tbody>\n",
       "</table>\n",
       "</div>"
      ],
      "text/plain": [
       "                                  0            1           2            3  \\\n",
       "param_n_estimators               20           20          50          100   \n",
       "param_min_samples_leaf          100           25          10          100   \n",
       "param_max_features             sqrt            8        log2         sqrt   \n",
       "param_criterion             entropy         gini        gini         gini   \n",
       "split0_test_score          0.699787      0.72979    0.734063     0.705644   \n",
       "split1_test_score          0.700157     0.729052    0.731369     0.705049   \n",
       "split2_test_score          0.700977     0.728951    0.731757     0.706762   \n",
       "mean_test_score            0.700307     0.729264    0.732396     0.705818   \n",
       "std_test_score          0.000497298  0.000373802  0.00118937  0.000709908   \n",
       "rank_test_score                   7            5           4            6   \n",
       "\n",
       "                                 4            5            6  \n",
       "param_n_estimators             150           50          200  \n",
       "param_min_samples_leaf           5           10           10  \n",
       "param_max_features               8            8            8  \n",
       "param_criterion               gini         gini      entropy  \n",
       "split0_test_score         0.740625      0.73933     0.739416  \n",
       "split1_test_score         0.739413     0.737599     0.737513  \n",
       "split2_test_score         0.739931     0.738535     0.737528  \n",
       "mean_test_score           0.739989     0.738488     0.738152  \n",
       "std_test_score          0.00049674  0.000707264  0.000893817  \n",
       "rank_test_score                  1            2            3  "
      ]
     },
     "execution_count": 70,
     "metadata": {},
     "output_type": "execute_result"
    }
   ],
   "source": [
    "pd.DataFrame(rand_rf.cv_results_).drop(['mean_fit_time', 'std_fit_time', \n",
    "                                        'mean_score_time', 'std_score_time', 'params'], axis=1).T"
   ]
  },
  {
   "cell_type": "code",
   "execution_count": 71,
   "metadata": {},
   "outputs": [
    {
     "data": {
      "text/plain": [
       "{'n_estimators': 150,\n",
       " 'min_samples_leaf': 5,\n",
       " 'max_features': 8,\n",
       " 'criterion': 'gini'}"
      ]
     },
     "execution_count": 71,
     "metadata": {},
     "output_type": "execute_result"
    }
   ],
   "source": [
    "rand_rf.best_params_"
   ]
  },
  {
   "cell_type": "code",
   "execution_count": 72,
   "metadata": {},
   "outputs": [
    {
     "data": {
      "text/plain": [
       "0.73998944742901"
      ]
     },
     "execution_count": 72,
     "metadata": {},
     "output_type": "execute_result"
    }
   ],
   "source": [
    "rand_rf.best_score_"
   ]
  },
  {
   "cell_type": "code",
   "execution_count": null,
   "metadata": {},
   "outputs": [],
   "source": []
  }
 ],
 "metadata": {
  "kernelspec": {
   "display_name": "Python 3",
   "language": "python",
   "name": "python3"
  },
  "language_info": {
   "codemirror_mode": {
    "name": "ipython",
    "version": 3
   },
   "file_extension": ".py",
   "mimetype": "text/x-python",
   "name": "python",
   "nbconvert_exporter": "python",
   "pygments_lexer": "ipython3",
   "version": "3.7.4"
  }
 },
 "nbformat": 4,
 "nbformat_minor": 2
}
