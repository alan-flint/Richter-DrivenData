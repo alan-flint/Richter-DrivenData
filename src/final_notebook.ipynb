{
 "cells": [
  {
   "cell_type": "markdown",
   "metadata": {},
   "source": [
    "## Imports"
   ]
  },
  {
   "cell_type": "code",
   "execution_count": 24,
   "metadata": {},
   "outputs": [],
   "source": [
    "import pandas as pd\n",
    "from collections import Counter\n",
    "import seaborn as sns\n",
    "import numpy \n",
    "import scipy"
   ]
  },
  {
   "cell_type": "code",
   "execution_count": 11,
   "metadata": {},
   "outputs": [],
   "source": [
    "from sklearn.model_selection import cross_val_score\n",
    "from sklearn.metrics import make_scorer,f1_score\n",
    "from sklearn.linear_model import LogisticRegression\n",
    "from sys import getsizeof\n",
    "\n",
    "from sklearn.ensemble import RandomForestClassifier\n",
    "from sklearn.preprocessing import LabelEncoder\n",
    "import numpy as np\n",
    "from sklearn.metrics import f1_score"
   ]
  },
  {
   "cell_type": "code",
   "execution_count": 5,
   "metadata": {},
   "outputs": [],
   "source": [
    "from sklearn.model_selection import train_test_split\n",
    "from rfpimp import *"
   ]
  },
  {
   "cell_type": "code",
   "execution_count": 31,
   "metadata": {},
   "outputs": [],
   "source": [
    "from sklearn.pipeline import Pipeline\n",
    "from sklearn.preprocessing import StandardScaler\n",
    "from sklearn.decomposition import PCA\n",
    "from sklearn.linear_model import LogisticRegression\n",
    "from sklearn.tree import DecisionTreeClassifier\n"
   ]
  },
  {
   "cell_type": "code",
   "execution_count": 6,
   "metadata": {},
   "outputs": [],
   "source": [
    "scorer = make_scorer(f1_score, needs_proba=False,\n",
    "                     greater_is_better=True,average='micro')"
   ]
  },
  {
   "cell_type": "markdown",
   "metadata": {},
   "source": [
    "## Functions and Class creations"
   ]
  },
  {
   "cell_type": "code",
   "execution_count": 10,
   "metadata": {},
   "outputs": [],
   "source": [
    "def give_sub_file(preds, ids, path='../output/preds.csv'):\n",
    "    '''Input the predictions with ids. Output the csv submission file'''\n",
    "    preds = pd.DataFrame(preds,columns=['damage_grade'])\n",
    "    preds['building_id'] = ids\n",
    "    preds = preds[['building_id', 'damage_grade']]\n",
    "    print(preds.columns)\n",
    "    print(preds.shape)\n",
    "    preds.to_csv(path, index=False)\n"
   ]
  },
  {
   "cell_type": "markdown",
   "metadata": {},
   "source": [
    "Data processing functions\n",
    "---"
   ]
  },
  {
   "cell_type": "code",
   "execution_count": 15,
   "metadata": {},
   "outputs": [],
   "source": [
    "def create_X(df):\n",
    "    X = df.copy()\n",
    "    cat_cols = X.columns[X.dtypes == 'object']\n",
    "    num_cols = [i for i in X.columns if i not in cat_cols]\n",
    "    \n",
    "    x1 = X[cat_cols].apply(LabelEncoder().fit_transform)\n",
    "    X = pd.concat([X[num_cols], x1], axis=1)\n",
    "    \n",
    "    return X\n",
    "\n",
    "def _new_ids(l1, l2):\n",
    "    '''\n",
    "    l1 and l2 are np.arrays\n",
    "    l1 = train array\n",
    "    l2 = test array\n",
    "    '''\n",
    "    \n",
    "    if not isinstance(l1, np.ndarray):\n",
    "        l1 = np.array(l1)\n",
    "    if not isinstance(l2, np.ndarray):\n",
    "        l2 = np.array(l2)\n",
    "    \n",
    "    mode = scipy.stats.mode(l1)[0][0]  # mode value of train\n",
    "    \n",
    "    bool_arr = np.array([i in l1 for i in l2])\n",
    "    out = l2.copy()\n",
    "    out[~bool_arr] = mode\n",
    "    \n",
    "    \n",
    "    return out\n",
    "\n",
    "def replace_new_ids(train_df, test_df, cols):\n",
    "    '''\n",
    "    train_df = train_df\n",
    "    test_df = test_df\n",
    "    cols = list of columns which have new ids not in train_df\n",
    "    \n",
    "    This function will replace any new values in the cols of \n",
    "    test_df with the mode of trains_df\n",
    "    '''\n",
    "    for column in cols:\n",
    "        test_df.loc[:,column] = _new_ids(train_df.loc[:,column], test_df.loc[:,column])\n",
    "    return train_df, test_df\n",
    "    \n",
    "    \n",
    "def geo23_in_geo1(X_train, X_test):\n",
    "    ''' Requirement: No new geo_level_2 ids in X_test'''\n",
    "    \n",
    "    dic_1_2 = dict(X_train.groupby('geo_level_1_id', as_index=False)['geo_level_2_id'].nunique())\n",
    "    dic_1_3 = dict(X_train.groupby('geo_level_1_id', as_index=False)['geo_level_3_id'].nunique())\n",
    "    \n",
    "    for frame in [X_train, X_test]:\n",
    "        frame['count12'] = frame.loc[:, 'geo_level_1_id'].apply(lambda x: dic_1_2[x])\n",
    "        frame['count13'] = frame.loc[:, 'geo_level_1_id'].apply(lambda x: dic_1_3[x])\n",
    "    \n",
    "    return X_train, X_test\n",
    "    \n",
    "\n",
    "def new_rows(l1, l2):\n",
    "    '''check how columns compare and how many differ'''\n",
    "    s = set(l2) - set(l1)\n",
    "    return len([i for i in l2 if i in s])"
   ]
  },
  {
   "cell_type": "code",
   "execution_count": 16,
   "metadata": {},
   "outputs": [],
   "source": [
    "class FreqEncode:\n",
    "    def __init__(self):\n",
    "        self.freq_dict = {}\n",
    "    \n",
    "    def create_dict(self,train_col):\n",
    "        return dict(train_col.value_counts())\n",
    "    \n",
    "    def fit(self, X_train, cols):\n",
    "        '''\n",
    "        X_train = train_df\n",
    "        cols for which we need to encode frequency\n",
    "        '''\n",
    "        self.cols = cols\n",
    "        for i in cols:\n",
    "            value = self.create_dict(X_train[i])\n",
    "            self.freq_dict[i] = value\n",
    "    \n",
    "    def transform(self, X_test):\n",
    "        '''this appends freq encoding columns to X_test inplace'''\n",
    "        for i in self.cols:\n",
    "            X_test[i.strip()+'_fq'] = X_test[i].apply(lambda x: self.freq_dict[i][x])\n",
    "        return X_test\n",
    "    "
   ]
  },
  {
   "cell_type": "markdown",
   "metadata": {
    "Collapsed": "false"
   },
   "source": [
    "## Data Import"
   ]
  },
  {
   "cell_type": "code",
   "execution_count": 17,
   "metadata": {},
   "outputs": [],
   "source": [
    "#data is already very clean\n",
    "df = pd.read_csv('../input/train_values.csv')\n",
    "train_target = pd.read_csv('../input/train_labels.csv')\n",
    "y = train_target.damage_grade"
   ]
  },
  {
   "cell_type": "markdown",
   "metadata": {},
   "source": [
    "## Model Building"
   ]
  },
  {
   "cell_type": "code",
   "execution_count": 18,
   "metadata": {},
   "outputs": [
    {
     "data": {
      "text/plain": [
       "Counter({3: 87218, 2: 148259, 1: 25124})"
      ]
     },
     "execution_count": 18,
     "metadata": {},
     "output_type": "execute_result"
    }
   ],
   "source": [
    "Counter(train_target.damage_grade)"
   ]
  },
  {
   "cell_type": "markdown",
   "metadata": {},
   "source": [
    "Baseline model using Mode of 2\n",
    "---"
   ]
  },
  {
   "cell_type": "code",
   "execution_count": 19,
   "metadata": {},
   "outputs": [],
   "source": [
    "y_true =  train_target.damage_grade\n",
    "y_pred = [2]*len(y_true)"
   ]
  },
  {
   "cell_type": "code",
   "execution_count": 20,
   "metadata": {
    "scrolled": true
   },
   "outputs": [
    {
     "data": {
      "text/plain": [
       "0.5689118614280068"
      ]
     },
     "execution_count": 20,
     "metadata": {},
     "output_type": "execute_result"
    }
   ],
   "source": [
    "f1_score(y_true, y_pred, average='micro')"
   ]
  },
  {
   "cell_type": "markdown",
   "metadata": {},
   "source": [
    "Pipeline\n",
    "---"
   ]
  },
  {
   "cell_type": "code",
   "execution_count": 32,
   "metadata": {},
   "outputs": [],
   "source": [
    "pipe_lr = Pipeline([('scl', StandardScaler()),          # Transformer: Standardize\n",
    "                    ('clf', LogisticRegression(solver='lbfgs', # Estimator: ML algorithm\n",
    "                                               multi_class='multinomial'))])"
   ]
  },
  {
   "cell_type": "code",
   "execution_count": 33,
   "metadata": {},
   "outputs": [],
   "source": [
    "pipe_rf = Pipeline([('scl', StandardScaler()),\n",
    "                    ('pca', PCA(n_components=2)),\n",
    "                    ('clf', RandomForestClassifier ())])"
   ]
  },
  {
   "cell_type": "code",
   "execution_count": 34,
   "metadata": {},
   "outputs": [],
   "source": [
    "pipelines = [pipe_lr, pipe_rf]"
   ]
  },
  {
   "cell_type": "code",
   "execution_count": 38,
   "metadata": {},
   "outputs": [
    {
     "name": "stderr",
     "output_type": "stream",
     "text": [
      "/Users/rushilsheth/anaconda3/lib/python3.7/site-packages/sklearn/ensemble/forest.py:245: FutureWarning: The default value of n_estimators will change from 10 in version 0.20 to 100 in 0.22.\n",
      "  \"10 in version 0.20 to 100 in 0.22.\", FutureWarning)\n"
     ]
    },
    {
     "name": "stdout",
     "output_type": "stream",
     "text": [
      "LogisticRegression    : 58.09%\n",
      "RandomForestClassifier: 52.78%\n"
     ]
    }
   ],
   "source": [
    "# Fit the pipelines \n",
    "X_train, X_test, y_train, y_test = train_test_split(create_X(df), y, test_size=0.2, random_state=42)\n",
    "for pipe in pipelines:\n",
    "    pipe.fit(X_train, y_train) # One-liners fits all models \n",
    "# Compare accuracies\n",
    "for pipe in pipelines:\n",
    "    name = pipe.steps[-1][1].__class__.__name__.split('.')[-1] # Fluent like a boss\n",
    "    print(f\"{name:<22}: {pipe.score(X_test, y_test):.2%}\")"
   ]
  },
  {
   "cell_type": "markdown",
   "metadata": {},
   "source": [
    "Random Forests\n",
    "---"
   ]
  },
  {
   "cell_type": "code",
   "execution_count": 21,
   "metadata": {},
   "outputs": [],
   "source": [
    "X = create_X(df)"
   ]
  },
  {
   "cell_type": "code",
   "execution_count": 22,
   "metadata": {},
   "outputs": [],
   "source": [
    "X, _ = geo23_in_geo1(X,X)"
   ]
  },
  {
   "cell_type": "code",
   "execution_count": 25,
   "metadata": {},
   "outputs": [],
   "source": [
    "geo_features = ['geo_level_1_id', 'geo_level_2_id', 'geo_level_3_id']\n",
    "\n",
    "X, _ = replace_new_ids(X, X, geo_features)\n"
   ]
  },
  {
   "cell_type": "code",
   "execution_count": 26,
   "metadata": {},
   "outputs": [],
   "source": [
    "fe = FreqEncode()\n",
    "fe.fit(X,geo_features)\n",
    "X = fe.transform(X)"
   ]
  },
  {
   "cell_type": "code",
   "execution_count": 27,
   "metadata": {},
   "outputs": [],
   "source": [
    "model = RandomForestClassifier(n_estimators=200, min_samples_leaf=3, n_jobs=-1)"
   ]
  },
  {
   "cell_type": "code",
   "execution_count": 28,
   "metadata": {},
   "outputs": [
    {
     "data": {
      "text/plain": [
       "array([0.74176912, 0.74227564, 0.74112704])"
      ]
     },
     "execution_count": 28,
     "metadata": {},
     "output_type": "execute_result"
    }
   ],
   "source": [
    "cross_val_score(estimator=model,X = X, y=y, scoring=scorer, cv=3,n_jobs=-1)"
   ]
  },
  {
   "cell_type": "code",
   "execution_count": 29,
   "metadata": {},
   "outputs": [
    {
     "data": {
      "text/plain": [
       "RandomForestClassifier(bootstrap=True, class_weight=None, criterion='gini',\n",
       "                       max_depth=None, max_features='auto', max_leaf_nodes=None,\n",
       "                       min_impurity_decrease=0.0, min_impurity_split=None,\n",
       "                       min_samples_leaf=3, min_samples_split=2,\n",
       "                       min_weight_fraction_leaf=0.0, n_estimators=200,\n",
       "                       n_jobs=-1, oob_score=False, random_state=None, verbose=0,\n",
       "                       warm_start=False)"
      ]
     },
     "execution_count": 29,
     "metadata": {},
     "output_type": "execute_result"
    }
   ],
   "source": [
    "model.fit(X,y)"
   ]
  },
  {
   "cell_type": "code",
   "execution_count": 30,
   "metadata": {},
   "outputs": [
    {
     "data": {
      "image/png": "[encoded data removed]",
      "text/plain": [
       "<Figure size 288x698.4 with 1 Axes>"
      ]
     },
     "metadata": {
      "needs_background": "light"
     },
     "output_type": "display_data"
    }
   ],
   "source": [
    "#check feat importance and fit model only using top 20\n",
    "imp = importances(model, X, y) # permutation\n",
    "viz = plot_importances(imp)\n",
    "top20 = imp.iloc[:20].index.tolist()"
   ]
  },
  {
   "cell_type": "code",
   "execution_count": null,
   "metadata": {},
   "outputs": [],
   "source": [
    "cross_val_score(estimator=model,X = X[top20], y=y, scoring=scorer, cv=3,n_jobs=-1)"
   ]
  }
 ],
 "metadata": {
  "kernelspec": {
   "display_name": "Python 3",
   "language": "python",
   "name": "python3"
  },
  "language_info": {
   "codemirror_mode": {
    "name": "ipython",
    "version": 3
   },
   "file_extension": ".py",
   "mimetype": "text/x-python",
   "name": "python",
   "nbconvert_exporter": "python",
   "pygments_lexer": "ipython3",
   "version": "3.7.3"
  }
 },
 "nbformat": 4,
 "nbformat_minor": 2
}
